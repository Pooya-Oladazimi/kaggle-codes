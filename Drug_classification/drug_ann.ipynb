{
 "cells": [
  {
   "cell_type": "code",
   "execution_count": 276,
   "id": "b87212b5",
   "metadata": {},
   "outputs": [],
   "source": [
    "import pandas as pd\n",
    "import numpy as np\n",
    "import tensorflow as tf\n",
    "from sklearn.preprocessing import LabelEncoder, StandardScaler\n",
    "from sklearn.metrics import confusion_matrix, accuracy_score\n",
    "from sklearn.model_selection import train_test_split\n",
    "from sklearn.compose import ColumnTransformer\n",
    "from sklearn.preprocessing import OneHotEncoder\n",
    "import os"
   ]
  },
  {
   "cell_type": "markdown",
   "id": "89dc906c",
   "metadata": {},
   "source": [
    "# 1. Data Loading and Pre-processing"
   ]
  },
  {
   "cell_type": "code",
   "execution_count": 277,
   "id": "6336ea55",
   "metadata": {},
   "outputs": [
    {
     "data": {
      "text/html": [
       "<div>\n",
       "<style scoped>\n",
       "    .dataframe tbody tr th:only-of-type {\n",
       "        vertical-align: middle;\n",
       "    }\n",
       "\n",
       "    .dataframe tbody tr th {\n",
       "        vertical-align: top;\n",
       "    }\n",
       "\n",
       "    .dataframe thead th {\n",
       "        text-align: right;\n",
       "    }\n",
       "</style>\n",
       "<table border=\"1\" class=\"dataframe\">\n",
       "  <thead>\n",
       "    <tr style=\"text-align: right;\">\n",
       "      <th></th>\n",
       "      <th>Age</th>\n",
       "      <th>Sex</th>\n",
       "      <th>BP</th>\n",
       "      <th>Cholesterol</th>\n",
       "      <th>Na_to_K</th>\n",
       "      <th>Drug</th>\n",
       "    </tr>\n",
       "  </thead>\n",
       "  <tbody>\n",
       "    <tr>\n",
       "      <th>0</th>\n",
       "      <td>23</td>\n",
       "      <td>F</td>\n",
       "      <td>HIGH</td>\n",
       "      <td>HIGH</td>\n",
       "      <td>25.355</td>\n",
       "      <td>DrugY</td>\n",
       "    </tr>\n",
       "    <tr>\n",
       "      <th>1</th>\n",
       "      <td>47</td>\n",
       "      <td>M</td>\n",
       "      <td>LOW</td>\n",
       "      <td>HIGH</td>\n",
       "      <td>13.093</td>\n",
       "      <td>drugC</td>\n",
       "    </tr>\n",
       "    <tr>\n",
       "      <th>2</th>\n",
       "      <td>47</td>\n",
       "      <td>M</td>\n",
       "      <td>LOW</td>\n",
       "      <td>HIGH</td>\n",
       "      <td>10.114</td>\n",
       "      <td>drugC</td>\n",
       "    </tr>\n",
       "    <tr>\n",
       "      <th>3</th>\n",
       "      <td>28</td>\n",
       "      <td>F</td>\n",
       "      <td>NORMAL</td>\n",
       "      <td>HIGH</td>\n",
       "      <td>7.798</td>\n",
       "      <td>drugX</td>\n",
       "    </tr>\n",
       "    <tr>\n",
       "      <th>4</th>\n",
       "      <td>61</td>\n",
       "      <td>F</td>\n",
       "      <td>LOW</td>\n",
       "      <td>HIGH</td>\n",
       "      <td>18.043</td>\n",
       "      <td>DrugY</td>\n",
       "    </tr>\n",
       "  </tbody>\n",
       "</table>\n",
       "</div>"
      ],
      "text/plain": [
       "   Age Sex      BP Cholesterol  Na_to_K   Drug\n",
       "0   23   F    HIGH        HIGH   25.355  DrugY\n",
       "1   47   M     LOW        HIGH   13.093  drugC\n",
       "2   47   M     LOW        HIGH   10.114  drugC\n",
       "3   28   F  NORMAL        HIGH    7.798  drugX\n",
       "4   61   F     LOW        HIGH   18.043  DrugY"
      ]
     },
     "execution_count": 277,
     "metadata": {},
     "output_type": "execute_result"
    }
   ],
   "source": [
    "data = pd.read_csv(\"drug200.csv\")\n",
    "data.head()"
   ]
  },
  {
   "cell_type": "code",
   "execution_count": 278,
   "id": "2d729f22",
   "metadata": {},
   "outputs": [],
   "source": [
    "X = data.iloc[:, :-1].values\n",
    "y = data.iloc[:, -1].values"
   ]
  },
  {
   "cell_type": "markdown",
   "id": "713809ca",
   "metadata": {},
   "source": [
    "## Encoding"
   ]
  },
  {
   "cell_type": "code",
   "execution_count": 279,
   "id": "83def298",
   "metadata": {},
   "outputs": [],
   "source": [
    "# sex, BP, Cholesterol, Drug columns encoding\n",
    "\n",
    "# sex column\n",
    "le = LabelEncoder()\n",
    "X[:, 1] = le.fit_transform(X[:, 1])\n",
    "\n",
    "# BP, Cholestero columns\n",
    "ct = ColumnTransformer(transformers=[('encoder', OneHotEncoder(), [2, 3])], remainder='passthrough')\n",
    "X = np.array(ct.fit_transform(X))\n",
    "\n",
    "# Drug column\n",
    "encoder = OneHotEncoder()\n",
    "encoded_Y = encoder.fit(y.reshape(-1,1))\n",
    "y = encoded_Y.transform(y.reshape(-1,1)).toarray()"
   ]
  },
  {
   "cell_type": "markdown",
   "id": "de8c9d1c",
   "metadata": {},
   "source": [
    "## Split"
   ]
  },
  {
   "cell_type": "code",
   "execution_count": 280,
   "id": "0178b619",
   "metadata": {},
   "outputs": [],
   "source": [
    "X_train, X_test, y_train, y_test = train_test_split(X, y, test_size=0.2, random_state=42)"
   ]
  },
  {
   "cell_type": "markdown",
   "id": "cb707f49",
   "metadata": {},
   "source": [
    "## Scaling"
   ]
  },
  {
   "cell_type": "code",
   "execution_count": 281,
   "id": "47cfd151",
   "metadata": {},
   "outputs": [],
   "source": [
    "sc = StandardScaler()\n",
    "X_train = sc.fit_transform(X_train)\n",
    "X_test = sc.transform(X_test)"
   ]
  },
  {
   "cell_type": "markdown",
   "id": "58ce9751",
   "metadata": {},
   "source": [
    "# 2. Artificial Neural Netwrok (ANN)"
   ]
  },
  {
   "cell_type": "code",
   "execution_count": 282,
   "id": "7ed09b20",
   "metadata": {},
   "outputs": [],
   "source": [
    "# hidden layers (2)\n",
    "\n",
    "ann = tf.keras.models.Sequential()\n",
    "ann.add(tf.keras.layers.Dense(units=15, activation='relu'))\n",
    "ann.add(tf.keras.layers.Dense(units=15, activation='relu'))"
   ]
  },
  {
   "cell_type": "code",
   "execution_count": 283,
   "id": "12830099",
   "metadata": {},
   "outputs": [],
   "source": [
    "# output layer\n",
    "\n",
    "number_of_possible_outcomes =  len(set(data[\"Drug\"]))\n",
    "ann.add(tf.keras.layers.Dense(units=number_of_possible_outcomes, activation='softmax'))"
   ]
  },
  {
   "cell_type": "code",
   "execution_count": 284,
   "id": "e5d64131",
   "metadata": {},
   "outputs": [],
   "source": [
    "# compile\n",
    "\n",
    "ann.compile(optimizer='adam', loss='categorical_crossentropy', metrics=['accuracy'])"
   ]
  },
  {
   "cell_type": "code",
   "execution_count": 285,
   "id": "59919e44",
   "metadata": {
    "scrolled": false
   },
   "outputs": [
    {
     "name": "stdout",
     "output_type": "stream",
     "text": [
      "Epoch 1/100\n",
      "5/5 [==============================] - 0s 1ms/step - loss: 1.5062 - accuracy: 0.2188\n",
      "Epoch 2/100\n",
      "5/5 [==============================] - 0s 1ms/step - loss: 1.4709 - accuracy: 0.2625\n",
      "Epoch 3/100\n",
      "5/5 [==============================] - 0s 1ms/step - loss: 1.4391 - accuracy: 0.3313\n",
      "Epoch 4/100\n",
      "5/5 [==============================] - 0s 1ms/step - loss: 1.4068 - accuracy: 0.3688\n",
      "Epoch 5/100\n",
      "5/5 [==============================] - 0s 1ms/step - loss: 1.3781 - accuracy: 0.3750\n",
      "Epoch 6/100\n",
      "5/5 [==============================] - 0s 1ms/step - loss: 1.3494 - accuracy: 0.3938\n",
      "Epoch 7/100\n",
      "5/5 [==============================] - 0s 1ms/step - loss: 1.3229 - accuracy: 0.4313\n",
      "Epoch 8/100\n",
      "5/5 [==============================] - 0s 1ms/step - loss: 1.2966 - accuracy: 0.4375\n",
      "Epoch 9/100\n",
      "5/5 [==============================] - 0s 1ms/step - loss: 1.2713 - accuracy: 0.4375\n",
      "Epoch 10/100\n",
      "5/5 [==============================] - 0s 1ms/step - loss: 1.2462 - accuracy: 0.4500\n",
      "Epoch 11/100\n",
      "5/5 [==============================] - 0s 1ms/step - loss: 1.2224 - accuracy: 0.4625\n",
      "Epoch 12/100\n",
      "5/5 [==============================] - 0s 1ms/step - loss: 1.1995 - accuracy: 0.4812\n",
      "Epoch 13/100\n",
      "5/5 [==============================] - 0s 1ms/step - loss: 1.1772 - accuracy: 0.4812\n",
      "Epoch 14/100\n",
      "5/5 [==============================] - 0s 1ms/step - loss: 1.1549 - accuracy: 0.4812\n",
      "Epoch 15/100\n",
      "5/5 [==============================] - 0s 1ms/step - loss: 1.1325 - accuracy: 0.4812\n",
      "Epoch 16/100\n",
      "5/5 [==============================] - 0s 1ms/step - loss: 1.1097 - accuracy: 0.4812\n",
      "Epoch 17/100\n",
      "5/5 [==============================] - 0s 1ms/step - loss: 1.0869 - accuracy: 0.4875\n",
      "Epoch 18/100\n",
      "5/5 [==============================] - 0s 1ms/step - loss: 1.0630 - accuracy: 0.5000\n",
      "Epoch 19/100\n",
      "5/5 [==============================] - 0s 1ms/step - loss: 1.0392 - accuracy: 0.5063\n",
      "Epoch 20/100\n",
      "5/5 [==============================] - 0s 1ms/step - loss: 1.0143 - accuracy: 0.5125\n",
      "Epoch 21/100\n",
      "5/5 [==============================] - 0s 1ms/step - loss: 0.9908 - accuracy: 0.5188\n",
      "Epoch 22/100\n",
      "5/5 [==============================] - 0s 1ms/step - loss: 0.9667 - accuracy: 0.5312\n",
      "Epoch 23/100\n",
      "5/5 [==============================] - 0s 1ms/step - loss: 0.9413 - accuracy: 0.5688\n",
      "Epoch 24/100\n",
      "5/5 [==============================] - 0s 1ms/step - loss: 0.9183 - accuracy: 0.5938\n",
      "Epoch 25/100\n",
      "5/5 [==============================] - 0s 1ms/step - loss: 0.8925 - accuracy: 0.6187\n",
      "Epoch 26/100\n",
      "5/5 [==============================] - 0s 1ms/step - loss: 0.8692 - accuracy: 0.6375\n",
      "Epoch 27/100\n",
      "5/5 [==============================] - 0s 1ms/step - loss: 0.8448 - accuracy: 0.6812\n",
      "Epoch 28/100\n",
      "5/5 [==============================] - 0s 1ms/step - loss: 0.8207 - accuracy: 0.7375\n",
      "Epoch 29/100\n",
      "5/5 [==============================] - 0s 2ms/step - loss: 0.7970 - accuracy: 0.7563\n",
      "Epoch 30/100\n",
      "5/5 [==============================] - 0s 1ms/step - loss: 0.7751 - accuracy: 0.7750\n",
      "Epoch 31/100\n",
      "5/5 [==============================] - 0s 1ms/step - loss: 0.7535 - accuracy: 0.7688\n",
      "Epoch 32/100\n",
      "5/5 [==============================] - 0s 1ms/step - loss: 0.7315 - accuracy: 0.8000\n",
      "Epoch 33/100\n",
      "5/5 [==============================] - 0s 1ms/step - loss: 0.7102 - accuracy: 0.8062\n",
      "Epoch 34/100\n",
      "5/5 [==============================] - 0s 1ms/step - loss: 0.6904 - accuracy: 0.8062\n",
      "Epoch 35/100\n",
      "5/5 [==============================] - 0s 1ms/step - loss: 0.6696 - accuracy: 0.8125\n",
      "Epoch 36/100\n",
      "5/5 [==============================] - 0s 1ms/step - loss: 0.6507 - accuracy: 0.8125\n",
      "Epoch 37/100\n",
      "5/5 [==============================] - 0s 1ms/step - loss: 0.6318 - accuracy: 0.8125\n",
      "Epoch 38/100\n",
      "5/5 [==============================] - 0s 1ms/step - loss: 0.6138 - accuracy: 0.8125\n",
      "Epoch 39/100\n",
      "5/5 [==============================] - 0s 1ms/step - loss: 0.5960 - accuracy: 0.8188\n",
      "Epoch 40/100\n",
      "5/5 [==============================] - 0s 1ms/step - loss: 0.5791 - accuracy: 0.8250\n",
      "Epoch 41/100\n",
      "5/5 [==============================] - 0s 1ms/step - loss: 0.5632 - accuracy: 0.8438\n",
      "Epoch 42/100\n",
      "5/5 [==============================] - 0s 1ms/step - loss: 0.5471 - accuracy: 0.8438\n",
      "Epoch 43/100\n",
      "5/5 [==============================] - 0s 1ms/step - loss: 0.5324 - accuracy: 0.8562\n",
      "Epoch 44/100\n",
      "5/5 [==============================] - 0s 1ms/step - loss: 0.5176 - accuracy: 0.8625\n",
      "Epoch 45/100\n",
      "5/5 [==============================] - 0s 1ms/step - loss: 0.5042 - accuracy: 0.8562\n",
      "Epoch 46/100\n",
      "5/5 [==============================] - 0s 1ms/step - loss: 0.4910 - accuracy: 0.8562\n",
      "Epoch 47/100\n",
      "5/5 [==============================] - 0s 1ms/step - loss: 0.4782 - accuracy: 0.8687\n",
      "Epoch 48/100\n",
      "5/5 [==============================] - 0s 1ms/step - loss: 0.4658 - accuracy: 0.8625\n",
      "Epoch 49/100\n",
      "5/5 [==============================] - 0s 1ms/step - loss: 0.4539 - accuracy: 0.8687\n",
      "Epoch 50/100\n",
      "5/5 [==============================] - 0s 1ms/step - loss: 0.4429 - accuracy: 0.8750\n",
      "Epoch 51/100\n",
      "5/5 [==============================] - 0s 1ms/step - loss: 0.4317 - accuracy: 0.8813\n",
      "Epoch 52/100\n",
      "5/5 [==============================] - 0s 1ms/step - loss: 0.4207 - accuracy: 0.8875\n",
      "Epoch 53/100\n",
      "5/5 [==============================] - 0s 1ms/step - loss: 0.4108 - accuracy: 0.9000\n",
      "Epoch 54/100\n",
      "5/5 [==============================] - 0s 1ms/step - loss: 0.4007 - accuracy: 0.9062\n",
      "Epoch 55/100\n",
      "5/5 [==============================] - 0s 1ms/step - loss: 0.3918 - accuracy: 0.9125\n",
      "Epoch 56/100\n",
      "5/5 [==============================] - 0s 1ms/step - loss: 0.3827 - accuracy: 0.9187\n",
      "Epoch 57/100\n",
      "5/5 [==============================] - 0s 1ms/step - loss: 0.3735 - accuracy: 0.9250\n",
      "Epoch 58/100\n",
      "5/5 [==============================] - 0s 1ms/step - loss: 0.3649 - accuracy: 0.9312\n",
      "Epoch 59/100\n",
      "5/5 [==============================] - 0s 1ms/step - loss: 0.3570 - accuracy: 0.9312\n",
      "Epoch 60/100\n",
      "5/5 [==============================] - 0s 1ms/step - loss: 0.3492 - accuracy: 0.9312\n",
      "Epoch 61/100\n",
      "5/5 [==============================] - 0s 1ms/step - loss: 0.3412 - accuracy: 0.9312\n",
      "Epoch 62/100\n",
      "5/5 [==============================] - 0s 1ms/step - loss: 0.3336 - accuracy: 0.9250\n",
      "Epoch 63/100\n",
      "5/5 [==============================] - 0s 1ms/step - loss: 0.3267 - accuracy: 0.9250\n",
      "Epoch 64/100\n",
      "5/5 [==============================] - 0s 1ms/step - loss: 0.3194 - accuracy: 0.9250\n",
      "Epoch 65/100\n",
      "5/5 [==============================] - 0s 1ms/step - loss: 0.3129 - accuracy: 0.9312\n",
      "Epoch 66/100\n",
      "5/5 [==============================] - 0s 1ms/step - loss: 0.3065 - accuracy: 0.9312\n",
      "Epoch 67/100\n",
      "5/5 [==============================] - 0s 1ms/step - loss: 0.2999 - accuracy: 0.9312\n",
      "Epoch 68/100\n",
      "5/5 [==============================] - 0s 1ms/step - loss: 0.2935 - accuracy: 0.9312\n",
      "Epoch 69/100\n",
      "5/5 [==============================] - 0s 2ms/step - loss: 0.2868 - accuracy: 0.9312\n",
      "Epoch 70/100\n",
      "5/5 [==============================] - 0s 1ms/step - loss: 0.2808 - accuracy: 0.9438\n",
      "Epoch 71/100\n",
      "5/5 [==============================] - 0s 1ms/step - loss: 0.2741 - accuracy: 0.9438\n",
      "Epoch 72/100\n",
      "5/5 [==============================] - 0s 1ms/step - loss: 0.2678 - accuracy: 0.9438\n",
      "Epoch 73/100\n",
      "5/5 [==============================] - 0s 1ms/step - loss: 0.2611 - accuracy: 0.9438\n",
      "Epoch 74/100\n",
      "5/5 [==============================] - 0s 1ms/step - loss: 0.2549 - accuracy: 0.9500\n",
      "Epoch 75/100\n",
      "5/5 [==============================] - 0s 1ms/step - loss: 0.2490 - accuracy: 0.9500\n",
      "Epoch 76/100\n",
      "5/5 [==============================] - 0s 1ms/step - loss: 0.2425 - accuracy: 0.9500\n",
      "Epoch 77/100\n",
      "5/5 [==============================] - 0s 1ms/step - loss: 0.2367 - accuracy: 0.9500\n",
      "Epoch 78/100\n",
      "5/5 [==============================] - 0s 1ms/step - loss: 0.2310 - accuracy: 0.9500\n",
      "Epoch 79/100\n",
      "5/5 [==============================] - 0s 2ms/step - loss: 0.2254 - accuracy: 0.9563\n",
      "Epoch 80/100\n",
      "5/5 [==============================] - 0s 1ms/step - loss: 0.2204 - accuracy: 0.9500\n",
      "Epoch 81/100\n",
      "5/5 [==============================] - 0s 1ms/step - loss: 0.2151 - accuracy: 0.9563\n",
      "Epoch 82/100\n",
      "5/5 [==============================] - 0s 1ms/step - loss: 0.2110 - accuracy: 0.9563\n",
      "Epoch 83/100\n",
      "5/5 [==============================] - 0s 1ms/step - loss: 0.2057 - accuracy: 0.9563\n",
      "Epoch 84/100\n"
     ]
    },
    {
     "name": "stdout",
     "output_type": "stream",
     "text": [
      "5/5 [==============================] - 0s 1ms/step - loss: 0.2015 - accuracy: 0.9625\n",
      "Epoch 85/100\n",
      "5/5 [==============================] - 0s 1ms/step - loss: 0.1970 - accuracy: 0.9563\n",
      "Epoch 86/100\n",
      "5/5 [==============================] - 0s 1ms/step - loss: 0.1924 - accuracy: 0.9563\n",
      "Epoch 87/100\n",
      "5/5 [==============================] - 0s 1ms/step - loss: 0.1883 - accuracy: 0.9563\n",
      "Epoch 88/100\n",
      "5/5 [==============================] - 0s 1ms/step - loss: 0.1842 - accuracy: 0.9563\n",
      "Epoch 89/100\n",
      "5/5 [==============================] - 0s 1ms/step - loss: 0.1807 - accuracy: 0.9563\n",
      "Epoch 90/100\n",
      "5/5 [==============================] - 0s 1ms/step - loss: 0.1764 - accuracy: 0.9563\n",
      "Epoch 91/100\n",
      "5/5 [==============================] - 0s 1ms/step - loss: 0.1723 - accuracy: 0.9688\n",
      "Epoch 92/100\n",
      "5/5 [==============================] - 0s 1ms/step - loss: 0.1687 - accuracy: 0.9688\n",
      "Epoch 93/100\n",
      "5/5 [==============================] - 0s 1ms/step - loss: 0.1649 - accuracy: 0.9625\n",
      "Epoch 94/100\n",
      "5/5 [==============================] - 0s 1ms/step - loss: 0.1616 - accuracy: 0.9625\n",
      "Epoch 95/100\n",
      "5/5 [==============================] - 0s 1ms/step - loss: 0.1584 - accuracy: 0.9688\n",
      "Epoch 96/100\n",
      "5/5 [==============================] - 0s 1ms/step - loss: 0.1548 - accuracy: 0.9750\n",
      "Epoch 97/100\n",
      "5/5 [==============================] - 0s 1ms/step - loss: 0.1514 - accuracy: 0.9750\n",
      "Epoch 98/100\n",
      "5/5 [==============================] - 0s 1ms/step - loss: 0.1487 - accuracy: 0.9812\n",
      "Epoch 99/100\n",
      "5/5 [==============================] - 0s 1ms/step - loss: 0.1458 - accuracy: 0.9812\n",
      "Epoch 100/100\n",
      "5/5 [==============================] - 0s 1ms/step - loss: 0.1426 - accuracy: 0.9812\n"
     ]
    },
    {
     "data": {
      "text/plain": [
       "<keras.callbacks.History at 0x7f8f2c28edf0>"
      ]
     },
     "execution_count": 285,
     "metadata": {},
     "output_type": "execute_result"
    }
   ],
   "source": [
    "ann.fit(X_train, y_train, batch_size=32, epochs=100)"
   ]
  },
  {
   "cell_type": "markdown",
   "id": "42d51746",
   "metadata": {},
   "source": [
    "# 3. Prediction for test data"
   ]
  },
  {
   "cell_type": "code",
   "execution_count": 286,
   "id": "73eddc5e",
   "metadata": {},
   "outputs": [
    {
     "name": "stdout",
     "output_type": "stream",
     "text": [
      "2/2 [==============================] - 0s 2ms/step\n"
     ]
    }
   ],
   "source": [
    "y_pred = ann.predict(X_test)"
   ]
  },
  {
   "cell_type": "code",
   "execution_count": 287,
   "id": "f7dd6ccb",
   "metadata": {},
   "outputs": [],
   "source": [
    "# conver prediction outcome to the actual values\n",
    "\n",
    "y_pred_outcome = []\n",
    "for output in y_pred:\n",
    "    output_list = [0] * number_of_possible_outcomes\n",
    "    output_list[np.where(output == max(output))[0][0]] = 1\n",
    "    y_pred_outcome.append(output_list)"
   ]
  },
  {
   "cell_type": "code",
   "execution_count": 288,
   "id": "8c2073ba",
   "metadata": {},
   "outputs": [
    {
     "data": {
      "text/plain": [
       "1.0"
      ]
     },
     "execution_count": 288,
     "metadata": {},
     "output_type": "execute_result"
    }
   ],
   "source": [
    "accuracy_score(y_test, y_pred_outcome)"
   ]
  },
  {
   "cell_type": "code",
   "execution_count": null,
   "id": "b1b601c1",
   "metadata": {},
   "outputs": [],
   "source": []
  }
 ],
 "metadata": {
  "kernelspec": {
   "display_name": "Python 3 (ipykernel)",
   "language": "python",
   "name": "python3"
  },
  "language_info": {
   "codemirror_mode": {
    "name": "ipython",
    "version": 3
   },
   "file_extension": ".py",
   "mimetype": "text/x-python",
   "name": "python",
   "nbconvert_exporter": "python",
   "pygments_lexer": "ipython3",
   "version": "3.8.10"
  }
 },
 "nbformat": 4,
 "nbformat_minor": 5
}
