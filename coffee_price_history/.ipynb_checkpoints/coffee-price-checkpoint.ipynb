{
 "cells": [
  {
   "cell_type": "code",
   "execution_count": 469,
   "id": "c14b14aa",
   "metadata": {},
   "outputs": [],
   "source": [
    "# import the needed libraries\n",
    "\n",
    "import pandas as pd\n",
    "import matplotlib.pyplot as plt\n",
    "import numpy as np\n",
    "from datetime import datetime as dt\n",
    "from sklearn.impute import SimpleImputer\n",
    "from sklearn.model_selection import train_test_split\n",
    "from sklearn.linear_model import LinearRegression\n",
    "from sklearn.metrics import r2_score\n",
    "from sklearn.preprocessing import PolynomialFeatures"
   ]
  },
  {
   "cell_type": "markdown",
   "id": "fc5b3d2e",
   "metadata": {},
   "source": [
    "## Data pre-processing"
   ]
  },
  {
   "cell_type": "code",
   "execution_count": 470,
   "id": "fa2f1144",
   "metadata": {},
   "outputs": [],
   "source": [
    "# load the data\n",
    "\n",
    "data = pd.read_csv(\"coffee-prices-historical-chart-data.csv\")"
   ]
  },
  {
   "cell_type": "code",
   "execution_count": 471,
   "id": "5ae19ebd",
   "metadata": {},
   "outputs": [
    {
     "data": {
      "text/html": [
       "<div>\n",
       "<style scoped>\n",
       "    .dataframe tbody tr th:only-of-type {\n",
       "        vertical-align: middle;\n",
       "    }\n",
       "\n",
       "    .dataframe tbody tr th {\n",
       "        vertical-align: top;\n",
       "    }\n",
       "\n",
       "    .dataframe thead th {\n",
       "        text-align: right;\n",
       "    }\n",
       "</style>\n",
       "<table border=\"1\" class=\"dataframe\">\n",
       "  <thead>\n",
       "    <tr style=\"text-align: right;\">\n",
       "      <th></th>\n",
       "      <th>date</th>\n",
       "      <th>value</th>\n",
       "    </tr>\n",
       "  </thead>\n",
       "  <tbody>\n",
       "    <tr>\n",
       "      <th>0</th>\n",
       "      <td>1973-08-20</td>\n",
       "      <td>0.6735</td>\n",
       "    </tr>\n",
       "    <tr>\n",
       "      <th>1</th>\n",
       "      <td>1973-08-21</td>\n",
       "      <td>0.6710</td>\n",
       "    </tr>\n",
       "    <tr>\n",
       "      <th>2</th>\n",
       "      <td>1973-08-22</td>\n",
       "      <td>0.6580</td>\n",
       "    </tr>\n",
       "    <tr>\n",
       "      <th>3</th>\n",
       "      <td>1973-08-23</td>\n",
       "      <td>0.6675</td>\n",
       "    </tr>\n",
       "    <tr>\n",
       "      <th>4</th>\n",
       "      <td>1973-08-24</td>\n",
       "      <td>0.6660</td>\n",
       "    </tr>\n",
       "  </tbody>\n",
       "</table>\n",
       "</div>"
      ],
      "text/plain": [
       "         date   value\n",
       "0  1973-08-20  0.6735\n",
       "1  1973-08-21  0.6710\n",
       "2  1973-08-22  0.6580\n",
       "3  1973-08-23  0.6675\n",
       "4  1973-08-24  0.6660"
      ]
     },
     "execution_count": 471,
     "metadata": {},
     "output_type": "execute_result"
    }
   ],
   "source": [
    "# A short glance at the data \n",
    "\n",
    "data.head()"
   ]
  },
  {
   "cell_type": "code",
   "execution_count": 472,
   "id": "f3420f83",
   "metadata": {},
   "outputs": [],
   "source": [
    "# transform the dates to ordinal values\n",
    "\n",
    "data['date'] = pd.to_datetime(data['date'])\n",
    "data['date'] = data['date'].apply(dt.toordinal)"
   ]
  },
  {
   "cell_type": "code",
   "execution_count": 473,
   "id": "67fa64bc",
   "metadata": {},
   "outputs": [],
   "source": [
    "# set Independent Variable (feature) and Dependent Variable\n",
    "\n",
    "X = data['date'].values\n",
    "Y = data['value'].values\n",
    "X = np.reshape(X, (-1, 1))\n",
    "Y = np.reshape(Y, (-1, 1))"
   ]
  },
  {
   "cell_type": "code",
   "execution_count": 474,
   "id": "af99fdb7",
   "metadata": {},
   "outputs": [],
   "source": [
    "# fill missing values\n",
    "\n",
    "imputer = SimpleImputer(missing_values=np.nan, strategy='median')\n",
    "imputer.fit(Y)\n",
    "Y = imputer.transform(Y)"
   ]
  },
  {
   "cell_type": "code",
   "execution_count": 475,
   "id": "2cd41a1e",
   "metadata": {},
   "outputs": [
    {
     "data": {
      "image/png": "[encoded data removed]",
      "text/plain": [
       "<Figure size 432x288 with 1 Axes>"
      ]
     },
     "metadata": {
      "needs_background": "light"
     },
     "output_type": "display_data"
    }
   ],
   "source": [
    "# A glance at the data \n",
    "\n",
    "plt.scatter(X, Y, color='red')\n",
    "plt.title('Coffee price history')\n",
    "plt.xlabel('time')\n",
    "plt.ylabel('Price (per pound)')\n",
    "plt.show()"
   ]
  },
  {
   "cell_type": "code",
   "execution_count": 476,
   "id": "ce09faca",
   "metadata": {},
   "outputs": [],
   "source": [
    "# split the data to train and test\n",
    "\n",
    "X_train, X_test, y_train, y_test = train_test_split(X, Y, test_size=1/3, random_state=0)"
   ]
  },
  {
   "cell_type": "markdown",
   "id": "f0761a91",
   "metadata": {},
   "source": [
    "## Simple Linear Regression"
   ]
  },
  {
   "cell_type": "code",
   "execution_count": 477,
   "id": "8585e762",
   "metadata": {},
   "outputs": [
    {
     "data": {
      "text/plain": [
       "LinearRegression()"
      ]
     },
     "execution_count": 477,
     "metadata": {},
     "output_type": "execute_result"
    }
   ],
   "source": [
    "# train the Linear Regrssion model\n",
    "\n",
    "lr_reg = LinearRegression()\n",
    "lr_reg.fit(X_train, y_train)"
   ]
  },
  {
   "cell_type": "code",
   "execution_count": 478,
   "id": "a64b0089",
   "metadata": {},
   "outputs": [],
   "source": [
    "# make prediction with Linear Regrssion\n",
    "\n",
    "y_pred = lr_reg.predict(X_test)"
   ]
  },
  {
   "cell_type": "code",
   "execution_count": 479,
   "id": "62ca8434",
   "metadata": {},
   "outputs": [
    {
     "name": "stdout",
     "output_type": "stream",
     "text": [
      "Coef: [[2.47705848e-06]]\n",
      "Intercept:  [-0.53427439]\n"
     ]
    }
   ],
   "source": [
    "# Linear Regression Coeficient and intercept values\n",
    "\n",
    "print(\"Coef: {}\".format(lr_reg.coef_))\n",
    "print(\"Intercept:  {}\".format(lr_reg.intercept_))"
   ]
  },
  {
   "cell_type": "code",
   "execution_count": 480,
   "id": "54d5956f",
   "metadata": {},
   "outputs": [
    {
     "data": {
      "image/png": "[encoded data removed]",
      "text/plain": [
       "<Figure size 576x504 with 1 Axes>"
      ]
     },
     "metadata": {
      "needs_background": "light"
     },
     "output_type": "display_data"
    }
   ],
   "source": [
    "# A glance at the data and fit line\n",
    "\n",
    "plt.figure(figsize=(8,7))\n",
    "plt.scatter(X_test, y_test, color='red')\n",
    "plt.plot(X_train, lr_reg.predict(X_train), color=\"blue\")\n",
    "plt.title('Coffee price history (Test set [red]) and Fit function (Simple Linear Regression) [blue]')\n",
    "plt.xlabel('time')\n",
    "plt.ylabel('Price (per pound)')\n",
    "plt.show()"
   ]
  },
  {
   "cell_type": "code",
   "execution_count": 481,
   "id": "a15aeb4f",
   "metadata": {},
   "outputs": [
    {
     "name": "stdout",
     "output_type": "stream",
     "text": [
      "R2_score for Simple Linear Regression:  0.0003317114344260075\n"
     ]
    }
   ],
   "source": [
    "# R2 core for Simple Linear Regression\n",
    "\n",
    "print(\"R2_score for Simple Linear Regression:  {}\".format(r2_score(y_test, y_pred)))"
   ]
  },
  {
   "cell_type": "markdown",
   "id": "8a9d2e57",
   "metadata": {},
   "source": [
    "## Polynomial Linear Regression"
   ]
  },
  {
   "cell_type": "code",
   "execution_count": 482,
   "id": "e6174b6e",
   "metadata": {},
   "outputs": [],
   "source": [
    "# create Polynimial feature \n",
    "\n",
    "poly_feature = PolynomialFeatures(degree=4)\n",
    "X_poly = poly_feature.fit_transform(X)"
   ]
  },
  {
   "cell_type": "code",
   "execution_count": 483,
   "id": "247383fc",
   "metadata": {},
   "outputs": [],
   "source": [
    "# split train and test\n",
    "\n",
    "X_train, X_test, y_train, y_test = train_test_split(X_poly, Y, test_size=1/3, random_state=0)"
   ]
  },
  {
   "cell_type": "code",
   "execution_count": 484,
   "id": "a66656f1",
   "metadata": {},
   "outputs": [
    {
     "data": {
      "text/plain": [
       "LinearRegression()"
      ]
     },
     "execution_count": 484,
     "metadata": {},
     "output_type": "execute_result"
    }
   ],
   "source": [
    "# fit the model\n",
    "\n",
    "poly_model = LinearRegression()\n",
    "poly_model.fit(X_train, y_train)"
   ]
  },
  {
   "cell_type": "code",
   "execution_count": 485,
   "id": "34b2a836",
   "metadata": {},
   "outputs": [
    {
     "data": {
      "image/png": "[encoded data removed]",
      "text/plain": [
       "<Figure size 432x288 with 1 Axes>"
      ]
     },
     "metadata": {
      "needs_background": "light"
     },
     "output_type": "display_data"
    }
   ],
   "source": [
    "# A glance at the data and fit function\n",
    "\n",
    "plt.figure(figsize=(8,7))\n",
    "plt.scatter(X_test[:, 1], y_test, color=\"red\")\n",
    "plt.plot(X_train[:, 1], poly_model.predict(X_train), color=\"blue\")\n",
    "plt.title('Coffee price history (Test set [red]) and Fit function (Polynomial Linear Regression with degree 4) [blue]')\n",
    "plt.xlabel('time')\n",
    "plt.ylabel('Price (per pound)')\n",
    "plt.show()"
   ]
  },
  {
   "cell_type": "code",
   "execution_count": 486,
   "id": "ce4a54b9",
   "metadata": {},
   "outputs": [
    {
     "name": "stdout",
     "output_type": "stream",
     "text": [
      "R2_score for Simple Linear Regression:  0.03759745234500955\n"
     ]
    }
   ],
   "source": [
    "# R2 core for Polynomial Linear Regression\n",
    "\n",
    "y_pred = poly_model.predict(X_test)\n",
    "print(\"R2_score for Simple Linear Regression:  {}\".format(r2_score(y_test, y_pred)))"
   ]
  },
  {
   "cell_type": "code",
   "execution_count": null,
   "id": "0c207af5",
   "metadata": {},
   "outputs": [],
   "source": []
  },
  {
   "cell_type": "code",
   "execution_count": null,
   "id": "45f6d948",
   "metadata": {},
   "outputs": [],
   "source": []
  },
  {
   "cell_type": "code",
   "execution_count": null,
   "id": "abe8aac9",
   "metadata": {},
   "outputs": [],
   "source": []
  },
  {
   "cell_type": "code",
   "execution_count": null,
   "id": "aba1149d",
   "metadata": {},
   "outputs": [],
   "source": []
  },
  {
   "cell_type": "code",
   "execution_count": null,
   "id": "241549bf",
   "metadata": {},
   "outputs": [],
   "source": []
  }
 ],
 "metadata": {
  "kernelspec": {
   "display_name": "Python 3 (ipykernel)",
   "language": "python",
   "name": "python3"
  },
  "language_info": {
   "codemirror_mode": {
    "name": "ipython",
    "version": 3
   },
   "file_extension": ".py",
   "mimetype": "text/x-python",
   "name": "python",
   "nbconvert_exporter": "python",
   "pygments_lexer": "ipython3",
   "version": "3.8.10"
  }
 },
 "nbformat": 4,
 "nbformat_minor": 5
}
