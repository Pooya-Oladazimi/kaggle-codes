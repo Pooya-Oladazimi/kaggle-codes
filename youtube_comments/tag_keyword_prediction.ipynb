{
 "cells": [
  {
   "cell_type": "code",
   "execution_count": 24,
   "id": "0fdff0a0",
   "metadata": {},
   "outputs": [
    {
     "name": "stderr",
     "output_type": "stream",
     "text": [
      "[nltk_data] Downloading package stopwords to /home/pooya/nltk_data...\n",
      "[nltk_data]   Package stopwords is already up-to-date!\n"
     ]
    }
   ],
   "source": [
    "import pandas as pd\n",
    "import re\n",
    "import nltk\n",
    "nltk.download(\"stopwords\")\n",
    "from nltk.corpus import stopwords\n",
    "from nltk.stem.porter import PorterStemmer\n",
    "from sklearn.feature_extraction.text import CountVectorizer\n",
    "from sklearn.model_selection import train_test_split\n",
    "from sklearn.preprocessing import LabelEncoder\n",
    "from sklearn.naive_bayes import MultinomialNB\n",
    "from sklearn.metrics import accuracy_score"
   ]
  },
  {
   "cell_type": "code",
   "execution_count": 3,
   "id": "9d4aab37",
   "metadata": {},
   "outputs": [
    {
     "data": {
      "text/html": [
       "<div>\n",
       "<style scoped>\n",
       "    .dataframe tbody tr th:only-of-type {\n",
       "        vertical-align: middle;\n",
       "    }\n",
       "\n",
       "    .dataframe tbody tr th {\n",
       "        vertical-align: top;\n",
       "    }\n",
       "\n",
       "    .dataframe thead th {\n",
       "        text-align: right;\n",
       "    }\n",
       "</style>\n",
       "<table border=\"1\" class=\"dataframe\">\n",
       "  <thead>\n",
       "    <tr style=\"text-align: right;\">\n",
       "      <th></th>\n",
       "      <th>Unnamed: 0</th>\n",
       "      <th>Title</th>\n",
       "      <th>Video ID</th>\n",
       "      <th>Published At</th>\n",
       "      <th>Keyword</th>\n",
       "      <th>Likes</th>\n",
       "      <th>Comments</th>\n",
       "      <th>Views</th>\n",
       "    </tr>\n",
       "  </thead>\n",
       "  <tbody>\n",
       "    <tr>\n",
       "      <th>0</th>\n",
       "      <td>0</td>\n",
       "      <td>Apple Pay Is Killing the Physical Wallet After...</td>\n",
       "      <td>wAZZ-UWGVHI</td>\n",
       "      <td>2022-08-23</td>\n",
       "      <td>tech</td>\n",
       "      <td>3407.0</td>\n",
       "      <td>672.0</td>\n",
       "      <td>135612.0</td>\n",
       "    </tr>\n",
       "    <tr>\n",
       "      <th>1</th>\n",
       "      <td>1</td>\n",
       "      <td>The most EXPENSIVE thing I own.</td>\n",
       "      <td>b3x28s61q3c</td>\n",
       "      <td>2022-08-24</td>\n",
       "      <td>tech</td>\n",
       "      <td>76779.0</td>\n",
       "      <td>4306.0</td>\n",
       "      <td>1758063.0</td>\n",
       "    </tr>\n",
       "    <tr>\n",
       "      <th>2</th>\n",
       "      <td>2</td>\n",
       "      <td>My New House Gaming Setup is SICK!</td>\n",
       "      <td>4mgePWWCAmA</td>\n",
       "      <td>2022-08-23</td>\n",
       "      <td>tech</td>\n",
       "      <td>63825.0</td>\n",
       "      <td>3338.0</td>\n",
       "      <td>1564007.0</td>\n",
       "    </tr>\n",
       "    <tr>\n",
       "      <th>3</th>\n",
       "      <td>3</td>\n",
       "      <td>Petrol Vs Liquid Nitrogen | Freezing Experimen...</td>\n",
       "      <td>kXiYSI7H2b0</td>\n",
       "      <td>2022-08-23</td>\n",
       "      <td>tech</td>\n",
       "      <td>71566.0</td>\n",
       "      <td>1426.0</td>\n",
       "      <td>922918.0</td>\n",
       "    </tr>\n",
       "    <tr>\n",
       "      <th>4</th>\n",
       "      <td>4</td>\n",
       "      <td>Best Back to School Tech 2022!</td>\n",
       "      <td>ErMwWXQxHp0</td>\n",
       "      <td>2022-08-08</td>\n",
       "      <td>tech</td>\n",
       "      <td>96513.0</td>\n",
       "      <td>5155.0</td>\n",
       "      <td>1855644.0</td>\n",
       "    </tr>\n",
       "  </tbody>\n",
       "</table>\n",
       "</div>"
      ],
      "text/plain": [
       "   Unnamed: 0                                              Title     Video ID  \\\n",
       "0           0  Apple Pay Is Killing the Physical Wallet After...  wAZZ-UWGVHI   \n",
       "1           1                    The most EXPENSIVE thing I own.  b3x28s61q3c   \n",
       "2           2                 My New House Gaming Setup is SICK!  4mgePWWCAmA   \n",
       "3           3  Petrol Vs Liquid Nitrogen | Freezing Experimen...  kXiYSI7H2b0   \n",
       "4           4                     Best Back to School Tech 2022!  ErMwWXQxHp0   \n",
       "\n",
       "  Published At Keyword    Likes  Comments      Views  \n",
       "0   2022-08-23    tech   3407.0     672.0   135612.0  \n",
       "1   2022-08-24    tech  76779.0    4306.0  1758063.0  \n",
       "2   2022-08-23    tech  63825.0    3338.0  1564007.0  \n",
       "3   2022-08-23    tech  71566.0    1426.0   922918.0  \n",
       "4   2022-08-08    tech  96513.0    5155.0  1855644.0  "
      ]
     },
     "execution_count": 3,
     "metadata": {},
     "output_type": "execute_result"
    }
   ],
   "source": [
    "video_stats_data = pd.read_csv(\"videos-stats.csv\")\n",
    "video_stats_data.head()"
   ]
  },
  {
   "cell_type": "code",
   "execution_count": 4,
   "id": "1fc45607",
   "metadata": {},
   "outputs": [],
   "source": [
    "videos_titles = list(video_stats_data[\"Title\"].values)\n",
    "keywords = list(video_stats_data[\"Keyword\"].values)"
   ]
  },
  {
   "cell_type": "code",
   "execution_count": 5,
   "id": "696cc424",
   "metadata": {},
   "outputs": [],
   "source": [
    "# get the actual title. The first part of string (before | ) is the video title. \n",
    "# The rest are the publisher metadata\n",
    "\n",
    "titles = [v_t.split('|')[0] for v_t in videos_titles]"
   ]
  },
  {
   "cell_type": "code",
   "execution_count": 6,
   "id": "dd377563",
   "metadata": {},
   "outputs": [],
   "source": [
    "# 1- get all english stop words\n",
    "# 2- remove non-alphabetic characters\n",
    "# 3- make all lowercase\n",
    "# 4- remove stop words\n",
    "# 5- stemming\n",
    "\n",
    "\n",
    "eng_stopwords = stopwords.words('english')\n",
    "corpus = []\n",
    "for vt in titles:\n",
    "    cleaned_title = re.sub('[^a-zA-Z]', ' ', vt)\n",
    "    cleaned_title = cleaned_title.lower()\n",
    "    cleaned_title = cleaned_title.split()\n",
    "    stemmer = PorterStemmer()\n",
    "    cleaned_title = [stemmer.stem(token) for token in cleaned_title if not token in set(eng_stopwords)]\n",
    "    corpus.append(' '.join(cleaned_title))"
   ]
  },
  {
   "cell_type": "code",
   "execution_count": 15,
   "id": "eb8838fb",
   "metadata": {},
   "outputs": [],
   "source": [
    "# create bag of words\n",
    "\n",
    "cv = CountVectorizer(max_features=1500)\n",
    "X = cv.fit_transform(corpus).toarray()\n",
    "lbe = LabelEncoder()\n",
    "y = lbe.fit_transform(keywords)"
   ]
  },
  {
   "cell_type": "code",
   "execution_count": 21,
   "id": "e7729929",
   "metadata": {},
   "outputs": [],
   "source": [
    "X_train, X_test, y_train, y_test = train_test_split(X, y, test_size=0.2, random_state=42)"
   ]
  },
  {
   "cell_type": "code",
   "execution_count": 22,
   "id": "d575fcfb",
   "metadata": {},
   "outputs": [
    {
     "data": {
      "text/html": [
       "<style>#sk-container-id-1 {color: black;background-color: white;}#sk-container-id-1 pre{padding: 0;}#sk-container-id-1 div.sk-toggleable {background-color: white;}#sk-container-id-1 label.sk-toggleable__label {cursor: pointer;display: block;width: 100%;margin-bottom: 0;padding: 0.3em;box-sizing: border-box;text-align: center;}#sk-container-id-1 label.sk-toggleable__label-arrow:before {content: \"▸\";float: left;margin-right: 0.25em;color: #696969;}#sk-container-id-1 label.sk-toggleable__label-arrow:hover:before {color: black;}#sk-container-id-1 div.sk-estimator:hover label.sk-toggleable__label-arrow:before {color: black;}#sk-container-id-1 div.sk-toggleable__content {max-height: 0;max-width: 0;overflow: hidden;text-align: left;background-color: #f0f8ff;}#sk-container-id-1 div.sk-toggleable__content pre {margin: 0.2em;color: black;border-radius: 0.25em;background-color: #f0f8ff;}#sk-container-id-1 input.sk-toggleable__control:checked~div.sk-toggleable__content {max-height: 200px;max-width: 100%;overflow: auto;}#sk-container-id-1 input.sk-toggleable__control:checked~label.sk-toggleable__label-arrow:before {content: \"▾\";}#sk-container-id-1 div.sk-estimator input.sk-toggleable__control:checked~label.sk-toggleable__label {background-color: #d4ebff;}#sk-container-id-1 div.sk-label input.sk-toggleable__control:checked~label.sk-toggleable__label {background-color: #d4ebff;}#sk-container-id-1 input.sk-hidden--visually {border: 0;clip: rect(1px 1px 1px 1px);clip: rect(1px, 1px, 1px, 1px);height: 1px;margin: -1px;overflow: hidden;padding: 0;position: absolute;width: 1px;}#sk-container-id-1 div.sk-estimator {font-family: monospace;background-color: #f0f8ff;border: 1px dotted black;border-radius: 0.25em;box-sizing: border-box;margin-bottom: 0.5em;}#sk-container-id-1 div.sk-estimator:hover {background-color: #d4ebff;}#sk-container-id-1 div.sk-parallel-item::after {content: \"\";width: 100%;border-bottom: 1px solid gray;flex-grow: 1;}#sk-container-id-1 div.sk-label:hover label.sk-toggleable__label {background-color: #d4ebff;}#sk-container-id-1 div.sk-serial::before {content: \"\";position: absolute;border-left: 1px solid gray;box-sizing: border-box;top: 0;bottom: 0;left: 50%;z-index: 0;}#sk-container-id-1 div.sk-serial {display: flex;flex-direction: column;align-items: center;background-color: white;padding-right: 0.2em;padding-left: 0.2em;position: relative;}#sk-container-id-1 div.sk-item {position: relative;z-index: 1;}#sk-container-id-1 div.sk-parallel {display: flex;align-items: stretch;justify-content: center;background-color: white;position: relative;}#sk-container-id-1 div.sk-item::before, #sk-container-id-1 div.sk-parallel-item::before {content: \"\";position: absolute;border-left: 1px solid gray;box-sizing: border-box;top: 0;bottom: 0;left: 50%;z-index: -1;}#sk-container-id-1 div.sk-parallel-item {display: flex;flex-direction: column;z-index: 1;position: relative;background-color: white;}#sk-container-id-1 div.sk-parallel-item:first-child::after {align-self: flex-end;width: 50%;}#sk-container-id-1 div.sk-parallel-item:last-child::after {align-self: flex-start;width: 50%;}#sk-container-id-1 div.sk-parallel-item:only-child::after {width: 0;}#sk-container-id-1 div.sk-dashed-wrapped {border: 1px dashed gray;margin: 0 0.4em 0.5em 0.4em;box-sizing: border-box;padding-bottom: 0.4em;background-color: white;}#sk-container-id-1 div.sk-label label {font-family: monospace;font-weight: bold;display: inline-block;line-height: 1.2em;}#sk-container-id-1 div.sk-label-container {text-align: center;}#sk-container-id-1 div.sk-container {/* jupyter's `normalize.less` sets `[hidden] { display: none; }` but bootstrap.min.css set `[hidden] { display: none !important; }` so we also need the `!important` here to be able to override the default hidden behavior on the sphinx rendered scikit-learn.org. See: https://github.com/scikit-learn/scikit-learn/issues/21755 */display: inline-block !important;position: relative;}#sk-container-id-1 div.sk-text-repr-fallback {display: none;}</style><div id=\"sk-container-id-1\" class=\"sk-top-container\"><div class=\"sk-text-repr-fallback\"><pre>MultinomialNB()</pre><b>In a Jupyter environment, please rerun this cell to show the HTML representation or trust the notebook. <br />On GitHub, the HTML representation is unable to render, please try loading this page with nbviewer.org.</b></div><div class=\"sk-container\" hidden><div class=\"sk-item\"><div class=\"sk-estimator sk-toggleable\"><input class=\"sk-toggleable__control sk-hidden--visually\" id=\"sk-estimator-id-1\" type=\"checkbox\" checked><label for=\"sk-estimator-id-1\" class=\"sk-toggleable__label sk-toggleable__label-arrow\">MultinomialNB</label><div class=\"sk-toggleable__content\"><pre>MultinomialNB()</pre></div></div></div></div></div>"
      ],
      "text/plain": [
       "MultinomialNB()"
      ]
     },
     "execution_count": 22,
     "metadata": {},
     "output_type": "execute_result"
    }
   ],
   "source": [
    "mNB = MultinomialNB()\n",
    "mNB.fit(X_train, y_train)"
   ]
  },
  {
   "cell_type": "code",
   "execution_count": 23,
   "id": "a56aae50",
   "metadata": {},
   "outputs": [],
   "source": [
    "y_pred = mNB.predict(X_test)"
   ]
  },
  {
   "cell_type": "code",
   "execution_count": 25,
   "id": "e20cd964",
   "metadata": {},
   "outputs": [
    {
     "data": {
      "text/plain": [
       "0.7851458885941645"
      ]
     },
     "execution_count": 25,
     "metadata": {},
     "output_type": "execute_result"
    }
   ],
   "source": [
    "accuracy_score(y_test, y_pred)"
   ]
  },
  {
   "cell_type": "code",
   "execution_count": 27,
   "id": "e2593898",
   "metadata": {},
   "outputs": [
    {
     "data": {
      "text/plain": [
       "array([22, 17, 20, 21, 29, 18,  6, 32, 39, 33,  2, 26, 35, 18, 26,  1, 39,\n",
       "       15, 23,  4,  6, 20,  4, 32,  5,  2, 15, 11, 33, 15, 27,  5, 29,  4,\n",
       "       35, 31, 40,  8, 24, 24, 25, 27, 18, 27,  5,  3, 38,  2,  8,  8, 27,\n",
       "       33, 26, 12,  6, 17, 11, 37, 10, 13, 19, 14, 32,  2, 17, 31, 22, 29,\n",
       "        1, 37,  7,  1,  1,  8, 21, 23, 22,  2, 11, 39, 26, 15,  9, 26, 20,\n",
       "       38, 38, 36, 29, 11, 27,  7, 22,  8, 20,  3,  9, 33,  7, 10, 40, 10,\n",
       "        2, 28, 18, 17,  3,  7, 21, 23, 18,  6, 29,  1, 14, 32,  8,  4, 15,\n",
       "       31,  8,  7,  9, 24,  5, 19,  4, 23,  9, 26, 40, 15, 18,  9,  3, 20,\n",
       "       17, 30, 39, 30, 32, 40, 18, 34, 37, 17, 15,  6, 26, 40, 21,  9, 38,\n",
       "       30, 10, 36, 15, 15,  5, 29, 26, 28, 19, 14,  1, 24, 16,  1, 14,  9,\n",
       "       17, 33,  5, 10, 22,  1, 14, 34, 34, 26, 18, 33, 33, 14, 12, 37,  2,\n",
       "       31, 13, 37, 35, 36, 14, 38, 34, 10, 31,  6,  8, 38,  3,  5, 15, 40,\n",
       "       32,  4, 40, 39, 22, 24,  3, 23,  3, 35,  7, 35, 21, 18, 21, 19, 35,\n",
       "       18, 30,  3,  2, 11,  6, 39,  6, 30, 14, 21,  0, 37, 28, 17,  8, 27,\n",
       "       17, 23, 31, 15, 32, 30, 10, 33, 17, 14,  2, 17,  4, 33, 27, 21, 37,\n",
       "       32, 29, 35, 12, 29, 19, 10, 39, 15, 26, 14, 37, 36, 22,  3, 15, 12,\n",
       "       17, 10,  1, 24,  7, 21, 29,  7, 35,  0, 30, 24, 35,  8, 39, 24, 29,\n",
       "       40, 37,  8, 40, 30, 11, 22, 22, 39, 30, 22, 34, 10,  9, 40, 33, 18,\n",
       "       10, 31, 18,  5, 31, 15, 30, 10,  6, 38, 30, 38,  7,  2, 40, 33, 32,\n",
       "       10,  3, 22,  2,  7,  8,  5, 34,  5, 11, 20, 35, 35,  8, 18, 17,  4,\n",
       "       14, 36, 24,  5,  9, 21, 10, 23, 13, 33,  1, 12,  0,  2, 32, 15,  6,\n",
       "       35, 11,  2, 23,  1, 34,  4, 26, 15, 15, 11, 38, 36, 29, 18, 11,  9,\n",
       "       17, 11, 20])"
      ]
     },
     "execution_count": 27,
     "metadata": {},
     "output_type": "execute_result"
    }
   ],
   "source": [
    "y_pred"
   ]
  },
  {
   "cell_type": "code",
   "execution_count": 28,
   "id": "3cfd2f5c",
   "metadata": {},
   "outputs": [
    {
     "data": {
      "text/plain": [
       "array([22, 17, 20, 21, 29, 28,  6, 32, 39, 33,  2, 19, 35, 13, 26,  1, 39,\n",
       "       15, 23,  4,  6, 20,  4, 32,  5,  2, 15, 11, 33, 15, 27,  5, 27,  4,\n",
       "       35, 13, 19,  8, 24, 24, 25, 27, 18, 34,  5,  3, 16, 16,  8,  8, 27,\n",
       "       33, 26, 12,  6, 33, 11,  9, 10, 13, 19, 14, 32,  2, 17, 31, 22, 29,\n",
       "        1, 37,  7,  1,  1, 25, 21, 23, 22,  2, 11, 39, 26, 15,  9, 26, 20,\n",
       "       16, 38, 36, 29, 11, 27,  7, 22,  8, 20,  3,  9, 13,  7, 10, 40, 10,\n",
       "        2, 28, 18, 13, 12,  7, 21, 23, 28,  6, 29,  1, 39, 32,  8,  4, 15,\n",
       "       31,  8,  7,  9, 24,  5, 35,  4, 23,  9, 26, 18, 15, 19,  9,  3, 20,\n",
       "       17, 34, 39, 30, 32, 40, 18, 34, 37, 17, 31,  6, 12, 40, 21,  9, 38,\n",
       "       30, 10,  6, 15, 15,  5, 14, 17, 28, 19, 28,  1, 24, 16,  1, 34,  9,\n",
       "       17, 33,  5, 10, 30,  1, 14, 36, 24, 26, 18, 33, 33, 14, 12, 37,  2,\n",
       "       20, 13, 16, 35, 36, 14, 38, 27, 10, 31,  6,  8, 38,  3,  5, 15, 40,\n",
       "       32, 24, 40, 39, 22,  7,  3, 23,  3, 31, 31, 35, 21, 31, 21,  5, 19,\n",
       "       31, 36,  3,  2, 23,  6, 39,  6, 17, 14, 21, 32, 37, 28, 17,  8, 27,\n",
       "       17, 19, 31, 15, 32, 16, 10, 33, 17, 14,  2,  7,  4, 33, 27, 21, 37,\n",
       "       32, 29, 39, 12, 29, 14, 10, 33, 15, 39, 27, 37, 36, 22, 13, 15, 12,\n",
       "       17, 10,  1, 24,  7, 21, 29, 19, 35,  0, 30, 24, 35,  8, 39, 24, 29,\n",
       "       40, 28,  8, 16, 30, 11, 22, 30, 39, 30, 30, 19, 10,  9, 40, 33,  5,\n",
       "       10, 31, 26, 20,  7, 15, 28, 10,  6, 38, 30, 38,  7, 13, 32, 33, 32,\n",
       "       10,  3, 22,  2,  7,  8,  5, 34,  5, 11, 20, 35,  7, 23, 30, 17,  4,\n",
       "       28, 31, 24,  5, 31, 21, 10, 23, 13,  7,  1, 12,  0,  2, 32, 15,  6,\n",
       "        9, 23,  2, 23,  1, 34, 19,  1, 15, 15, 11, 38, 36, 29, 18, 11, 13,\n",
       "       17, 11, 20])"
      ]
     },
     "execution_count": 28,
     "metadata": {},
     "output_type": "execute_result"
    }
   ],
   "source": [
    "y_test"
   ]
  },
  {
   "cell_type": "code",
   "execution_count": 29,
   "id": "e7545fa4",
   "metadata": {},
   "outputs": [
    {
     "data": {
      "text/plain": [
       "array([0, 0, 0, ..., 0, 0, 0])"
      ]
     },
     "execution_count": 29,
     "metadata": {},
     "output_type": "execute_result"
    }
   ],
   "source": [
    "X_test[5]"
   ]
  },
  {
   "cell_type": "code",
   "execution_count": null,
   "id": "f9101f82",
   "metadata": {},
   "outputs": [],
   "source": []
  },
  {
   "cell_type": "code",
   "execution_count": null,
   "id": "70900d22",
   "metadata": {},
   "outputs": [],
   "source": []
  }
 ],
 "metadata": {
  "kernelspec": {
   "display_name": "Python 3 (ipykernel)",
   "language": "python",
   "name": "python3"
  },
  "language_info": {
   "codemirror_mode": {
    "name": "ipython",
    "version": 3
   },
   "file_extension": ".py",
   "mimetype": "text/x-python",
   "name": "python",
   "nbconvert_exporter": "python",
   "pygments_lexer": "ipython3",
   "version": "3.8.10"
  }
 },
 "nbformat": 4,
 "nbformat_minor": 5
}
