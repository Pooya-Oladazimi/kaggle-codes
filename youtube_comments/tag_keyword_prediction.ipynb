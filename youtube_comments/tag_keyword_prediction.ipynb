{
 "cells": [
  {
   "cell_type": "markdown",
   "id": "62dcfa93",
   "metadata": {},
   "source": [
    "# Youtube vidoes: Tag (keyword) Generator \n",
    "\n",
    "- This notebook aims to generate a tag (keyword) for a youtube video based in its title.\n",
    "- Vectorization: Bag-Of-Words\n",
    "- Model: Logistic Regression"
   ]
  },
  {
   "cell_type": "code",
   "execution_count": 18,
   "id": "0fdff0a0",
   "metadata": {},
   "outputs": [
    {
     "name": "stderr",
     "output_type": "stream",
     "text": [
      "[nltk_data] Downloading package stopwords to /home/pooya/nltk_data...\n",
      "[nltk_data]   Package stopwords is already up-to-date!\n"
     ]
    }
   ],
   "source": [
    "import pandas as pd\n",
    "import re\n",
    "import numpy as np\n",
    "import nltk\n",
    "nltk.download(\"stopwords\")\n",
    "from nltk.corpus import stopwords\n",
    "from nltk.stem.porter import PorterStemmer\n",
    "from sklearn.feature_extraction.text import CountVectorizer\n",
    "from sklearn.model_selection import train_test_split\n",
    "from sklearn.preprocessing import LabelEncoder\n",
    "from sklearn.metrics import accuracy_score\n",
    "from sklearn.linear_model import LogisticRegression"
   ]
  },
  {
   "cell_type": "markdown",
   "id": "87858abd",
   "metadata": {},
   "source": [
    "### Data loading"
   ]
  },
  {
   "cell_type": "code",
   "execution_count": 19,
   "id": "9d4aab37",
   "metadata": {},
   "outputs": [
    {
     "data": {
      "text/html": [
       "<div>\n",
       "<style scoped>\n",
       "    .dataframe tbody tr th:only-of-type {\n",
       "        vertical-align: middle;\n",
       "    }\n",
       "\n",
       "    .dataframe tbody tr th {\n",
       "        vertical-align: top;\n",
       "    }\n",
       "\n",
       "    .dataframe thead th {\n",
       "        text-align: right;\n",
       "    }\n",
       "</style>\n",
       "<table border=\"1\" class=\"dataframe\">\n",
       "  <thead>\n",
       "    <tr style=\"text-align: right;\">\n",
       "      <th></th>\n",
       "      <th>Unnamed: 0</th>\n",
       "      <th>Title</th>\n",
       "      <th>Video ID</th>\n",
       "      <th>Published At</th>\n",
       "      <th>Keyword</th>\n",
       "      <th>Likes</th>\n",
       "      <th>Comments</th>\n",
       "      <th>Views</th>\n",
       "    </tr>\n",
       "  </thead>\n",
       "  <tbody>\n",
       "    <tr>\n",
       "      <th>0</th>\n",
       "      <td>0</td>\n",
       "      <td>Apple Pay Is Killing the Physical Wallet After...</td>\n",
       "      <td>wAZZ-UWGVHI</td>\n",
       "      <td>2022-08-23</td>\n",
       "      <td>tech</td>\n",
       "      <td>3407.0</td>\n",
       "      <td>672.0</td>\n",
       "      <td>135612.0</td>\n",
       "    </tr>\n",
       "    <tr>\n",
       "      <th>1</th>\n",
       "      <td>1</td>\n",
       "      <td>The most EXPENSIVE thing I own.</td>\n",
       "      <td>b3x28s61q3c</td>\n",
       "      <td>2022-08-24</td>\n",
       "      <td>tech</td>\n",
       "      <td>76779.0</td>\n",
       "      <td>4306.0</td>\n",
       "      <td>1758063.0</td>\n",
       "    </tr>\n",
       "    <tr>\n",
       "      <th>2</th>\n",
       "      <td>2</td>\n",
       "      <td>My New House Gaming Setup is SICK!</td>\n",
       "      <td>4mgePWWCAmA</td>\n",
       "      <td>2022-08-23</td>\n",
       "      <td>tech</td>\n",
       "      <td>63825.0</td>\n",
       "      <td>3338.0</td>\n",
       "      <td>1564007.0</td>\n",
       "    </tr>\n",
       "    <tr>\n",
       "      <th>3</th>\n",
       "      <td>3</td>\n",
       "      <td>Petrol Vs Liquid Nitrogen | Freezing Experimen...</td>\n",
       "      <td>kXiYSI7H2b0</td>\n",
       "      <td>2022-08-23</td>\n",
       "      <td>tech</td>\n",
       "      <td>71566.0</td>\n",
       "      <td>1426.0</td>\n",
       "      <td>922918.0</td>\n",
       "    </tr>\n",
       "    <tr>\n",
       "      <th>4</th>\n",
       "      <td>4</td>\n",
       "      <td>Best Back to School Tech 2022!</td>\n",
       "      <td>ErMwWXQxHp0</td>\n",
       "      <td>2022-08-08</td>\n",
       "      <td>tech</td>\n",
       "      <td>96513.0</td>\n",
       "      <td>5155.0</td>\n",
       "      <td>1855644.0</td>\n",
       "    </tr>\n",
       "  </tbody>\n",
       "</table>\n",
       "</div>"
      ],
      "text/plain": [
       "   Unnamed: 0                                              Title     Video ID  \\\n",
       "0           0  Apple Pay Is Killing the Physical Wallet After...  wAZZ-UWGVHI   \n",
       "1           1                    The most EXPENSIVE thing I own.  b3x28s61q3c   \n",
       "2           2                 My New House Gaming Setup is SICK!  4mgePWWCAmA   \n",
       "3           3  Petrol Vs Liquid Nitrogen | Freezing Experimen...  kXiYSI7H2b0   \n",
       "4           4                     Best Back to School Tech 2022!  ErMwWXQxHp0   \n",
       "\n",
       "  Published At Keyword    Likes  Comments      Views  \n",
       "0   2022-08-23    tech   3407.0     672.0   135612.0  \n",
       "1   2022-08-24    tech  76779.0    4306.0  1758063.0  \n",
       "2   2022-08-23    tech  63825.0    3338.0  1564007.0  \n",
       "3   2022-08-23    tech  71566.0    1426.0   922918.0  \n",
       "4   2022-08-08    tech  96513.0    5155.0  1855644.0  "
      ]
     },
     "execution_count": 19,
     "metadata": {},
     "output_type": "execute_result"
    }
   ],
   "source": [
    "video_stats_data = pd.read_csv(\"videos-stats.csv\")\n",
    "video_stats_data.head()"
   ]
  },
  {
   "cell_type": "code",
   "execution_count": 20,
   "id": "1fc45607",
   "metadata": {},
   "outputs": [],
   "source": [
    "videos_titles = list(video_stats_data[\"Title\"].values)\n",
    "keywords = list(video_stats_data[\"Keyword\"].values)"
   ]
  },
  {
   "cell_type": "markdown",
   "id": "2683b4fc",
   "metadata": {},
   "source": [
    "#### Get the actual title. The first part of string (before | ) is the video's title. The rest are the publisher metadata that we do not need."
   ]
  },
  {
   "cell_type": "code",
   "execution_count": 21,
   "id": "696cc424",
   "metadata": {},
   "outputs": [],
   "source": [
    "titles = [v_t.split('|')[0] for v_t in videos_titles]"
   ]
  },
  {
   "cell_type": "markdown",
   "id": "867b6356",
   "metadata": {},
   "source": [
    "### Cleaning\n",
    "- Get all english stop words\n",
    "- Remove non-alphabetic characters\n",
    "- Make all characters lowercase\n",
    "- Remove stop words\n",
    "- Stemming"
   ]
  },
  {
   "cell_type": "code",
   "execution_count": 22,
   "id": "dd377563",
   "metadata": {},
   "outputs": [],
   "source": [
    "eng_stopwords = stopwords.words('english')\n",
    "corpus = []\n",
    "for vt in titles:\n",
    "    cleaned_title = re.sub('[^a-zA-Z]', ' ', vt)\n",
    "    cleaned_title = cleaned_title.lower()\n",
    "    cleaned_title = cleaned_title.split()\n",
    "    stemmer = PorterStemmer()\n",
    "    cleaned_title = [stemmer.stem(token) for token in cleaned_title if not token in set(eng_stopwords)]\n",
    "    corpus.append(' '.join(cleaned_title))"
   ]
  },
  {
   "cell_type": "markdown",
   "id": "a23a1667",
   "metadata": {},
   "source": [
    "### Bag-Of-Words"
   ]
  },
  {
   "cell_type": "code",
   "execution_count": 23,
   "id": "eb8838fb",
   "metadata": {},
   "outputs": [],
   "source": [
    "cv = CountVectorizer(max_features=1500)\n",
    "X = cv.fit_transform(corpus).toarray()\n",
    "lbe = LabelEncoder()\n",
    "y = lbe.fit_transform(keywords)"
   ]
  },
  {
   "cell_type": "markdown",
   "id": "c968c8c2",
   "metadata": {},
   "source": [
    "### Split"
   ]
  },
  {
   "cell_type": "code",
   "execution_count": 24,
   "id": "e7729929",
   "metadata": {},
   "outputs": [],
   "source": [
    "X_train, X_test, y_train, y_test = train_test_split(X, y, test_size=0.2, random_state=42)"
   ]
  },
  {
   "cell_type": "markdown",
   "id": "e76d16e4",
   "metadata": {},
   "source": [
    "### Logistic Regression Model"
   ]
  },
  {
   "cell_type": "code",
   "execution_count": 25,
   "id": "70900d22",
   "metadata": {},
   "outputs": [
    {
     "name": "stdout",
     "output_type": "stream",
     "text": [
      "Accuracy is: 0.7904509283819628\n"
     ]
    }
   ],
   "source": [
    "lr_reg = LogisticRegression(multi_class='ovr', solver='liblinear')\n",
    "lr_reg.fit(X_train, y_train)\n",
    "y_pred = lr_reg.predict(X_test)\n",
    "acc = accuracy_score(y_test, y_pred)\n",
    "print(\"Accuracy is: {}\".format(acc))"
   ]
  },
  {
   "cell_type": "markdown",
   "id": "4eb5584c",
   "metadata": {},
   "source": [
    "### CAP analysis"
   ]
  },
  {
   "cell_type": "code",
   "execution_count": 26,
   "id": "96ef56be",
   "metadata": {},
   "outputs": [
    {
     "name": "stdout",
     "output_type": "stream",
     "text": [
      "CAP: 70.97393689986282 %\n"
     ]
    }
   ],
   "source": [
    "model_y = [y for _, y in sorted(zip(y_pred, y_test), reverse=True)]\n",
    "nb_y = np.append([0], np.cumsum(model_y))\n",
    "half_x = int((50 * len(y_test) / 100))\n",
    "cap = nb_y[half_x] * 100 / max(nb_y)\n",
    "print(\"CAP: {} %\".format(cap))"
   ]
  },
  {
   "cell_type": "code",
   "execution_count": null,
   "id": "70dba2f2",
   "metadata": {},
   "outputs": [],
   "source": []
  }
 ],
 "metadata": {
  "kernelspec": {
   "display_name": "Python 3 (ipykernel)",
   "language": "python",
   "name": "python3"
  },
  "language_info": {
   "codemirror_mode": {
    "name": "ipython",
    "version": 3
   },
   "file_extension": ".py",
   "mimetype": "text/x-python",
   "name": "python",
   "nbconvert_exporter": "python",
   "pygments_lexer": "ipython3",
   "version": "3.8.10"
  }
 },
 "nbformat": 4,
 "nbformat_minor": 5
}
