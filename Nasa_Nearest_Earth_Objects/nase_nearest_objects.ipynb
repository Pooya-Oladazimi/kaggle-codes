{
 "cells": [
  {
   "cell_type": "code",
   "execution_count": 326,
   "id": "dd345f72",
   "metadata": {},
   "outputs": [],
   "source": [
    "# import libraries\n",
    "\n",
    "import pandas as pd\n",
    "import matplotlib.pyplot as plt\n",
    "import numpy as np\n",
    "from sklearn.impute import SimpleImputer\n",
    "from scipy import stats\n",
    "from sklearn.model_selection import train_test_split\n",
    "from sklearn.preprocessing import StandardScaler, LabelEncoder\n",
    "from sklearn.linear_model import LogisticRegression\n",
    "from sklearn.metrics import confusion_matrix, accuracy_score\n",
    "from sklearn.neighbors import KNeighborsClassifier\n",
    "from sklearn.svm import SVC"
   ]
  },
  {
   "cell_type": "markdown",
   "id": "796b03ca",
   "metadata": {},
   "source": [
    "# 1. Pre-proccessing"
   ]
  },
  {
   "cell_type": "code",
   "execution_count": 327,
   "id": "a2603c7c",
   "metadata": {},
   "outputs": [
    {
     "data": {
      "text/html": [
       "<div>\n",
       "<style scoped>\n",
       "    .dataframe tbody tr th:only-of-type {\n",
       "        vertical-align: middle;\n",
       "    }\n",
       "\n",
       "    .dataframe tbody tr th {\n",
       "        vertical-align: top;\n",
       "    }\n",
       "\n",
       "    .dataframe thead th {\n",
       "        text-align: right;\n",
       "    }\n",
       "</style>\n",
       "<table border=\"1\" class=\"dataframe\">\n",
       "  <thead>\n",
       "    <tr style=\"text-align: right;\">\n",
       "      <th></th>\n",
       "      <th>id</th>\n",
       "      <th>name</th>\n",
       "      <th>est_diameter_min</th>\n",
       "      <th>est_diameter_max</th>\n",
       "      <th>relative_velocity</th>\n",
       "      <th>miss_distance</th>\n",
       "      <th>orbiting_body</th>\n",
       "      <th>sentry_object</th>\n",
       "      <th>absolute_magnitude</th>\n",
       "      <th>hazardous</th>\n",
       "    </tr>\n",
       "  </thead>\n",
       "  <tbody>\n",
       "    <tr>\n",
       "      <th>0</th>\n",
       "      <td>2162635</td>\n",
       "      <td>162635 (2000 SS164)</td>\n",
       "      <td>1.198271</td>\n",
       "      <td>2.679415</td>\n",
       "      <td>13569.249224</td>\n",
       "      <td>5.483974e+07</td>\n",
       "      <td>Earth</td>\n",
       "      <td>False</td>\n",
       "      <td>16.73</td>\n",
       "      <td>False</td>\n",
       "    </tr>\n",
       "    <tr>\n",
       "      <th>1</th>\n",
       "      <td>2277475</td>\n",
       "      <td>277475 (2005 WK4)</td>\n",
       "      <td>0.265800</td>\n",
       "      <td>0.594347</td>\n",
       "      <td>73588.726663</td>\n",
       "      <td>6.143813e+07</td>\n",
       "      <td>Earth</td>\n",
       "      <td>False</td>\n",
       "      <td>20.00</td>\n",
       "      <td>True</td>\n",
       "    </tr>\n",
       "    <tr>\n",
       "      <th>2</th>\n",
       "      <td>2512244</td>\n",
       "      <td>512244 (2015 YE18)</td>\n",
       "      <td>0.722030</td>\n",
       "      <td>1.614507</td>\n",
       "      <td>114258.692129</td>\n",
       "      <td>4.979872e+07</td>\n",
       "      <td>Earth</td>\n",
       "      <td>False</td>\n",
       "      <td>17.83</td>\n",
       "      <td>False</td>\n",
       "    </tr>\n",
       "    <tr>\n",
       "      <th>3</th>\n",
       "      <td>3596030</td>\n",
       "      <td>(2012 BV13)</td>\n",
       "      <td>0.096506</td>\n",
       "      <td>0.215794</td>\n",
       "      <td>24764.303138</td>\n",
       "      <td>2.543497e+07</td>\n",
       "      <td>Earth</td>\n",
       "      <td>False</td>\n",
       "      <td>22.20</td>\n",
       "      <td>False</td>\n",
       "    </tr>\n",
       "    <tr>\n",
       "      <th>4</th>\n",
       "      <td>3667127</td>\n",
       "      <td>(2014 GE35)</td>\n",
       "      <td>0.255009</td>\n",
       "      <td>0.570217</td>\n",
       "      <td>42737.733765</td>\n",
       "      <td>4.627557e+07</td>\n",
       "      <td>Earth</td>\n",
       "      <td>False</td>\n",
       "      <td>20.09</td>\n",
       "      <td>True</td>\n",
       "    </tr>\n",
       "  </tbody>\n",
       "</table>\n",
       "</div>"
      ],
      "text/plain": [
       "        id                 name  est_diameter_min  est_diameter_max  \\\n",
       "0  2162635  162635 (2000 SS164)          1.198271          2.679415   \n",
       "1  2277475    277475 (2005 WK4)          0.265800          0.594347   \n",
       "2  2512244   512244 (2015 YE18)          0.722030          1.614507   \n",
       "3  3596030          (2012 BV13)          0.096506          0.215794   \n",
       "4  3667127          (2014 GE35)          0.255009          0.570217   \n",
       "\n",
       "   relative_velocity  miss_distance orbiting_body  sentry_object  \\\n",
       "0       13569.249224   5.483974e+07         Earth          False   \n",
       "1       73588.726663   6.143813e+07         Earth          False   \n",
       "2      114258.692129   4.979872e+07         Earth          False   \n",
       "3       24764.303138   2.543497e+07         Earth          False   \n",
       "4       42737.733765   4.627557e+07         Earth          False   \n",
       "\n",
       "   absolute_magnitude  hazardous  \n",
       "0               16.73      False  \n",
       "1               20.00       True  \n",
       "2               17.83      False  \n",
       "3               22.20      False  \n",
       "4               20.09       True  "
      ]
     },
     "execution_count": 327,
     "metadata": {},
     "output_type": "execute_result"
    }
   ],
   "source": [
    "data = pd.read_csv(\"neo_v2.csv\")\n",
    "data.head()"
   ]
  },
  {
   "cell_type": "code",
   "execution_count": 328,
   "id": "a65f6269",
   "metadata": {},
   "outputs": [
    {
     "data": {
      "text/plain": [
       "(90836, 10)"
      ]
     },
     "execution_count": 328,
     "metadata": {},
     "output_type": "execute_result"
    }
   ],
   "source": [
    "data.shape"
   ]
  },
  {
   "cell_type": "markdown",
   "id": "47638bb5",
   "metadata": {},
   "source": [
    "## 1.2 Removing some features\n",
    "\n",
    "- **remove \"id\" column**\n",
    "- **remove \"name\" column to avoid possible correlation between the name and label by the classifiers** \n",
    "- **remove \"orbiting_body\" and \"sentry_object\" since they are the samle for all rows**"
   ]
  },
  {
   "cell_type": "code",
   "execution_count": 329,
   "id": "8e8445bd",
   "metadata": {},
   "outputs": [
    {
     "data": {
      "text/html": [
       "<div>\n",
       "<style scoped>\n",
       "    .dataframe tbody tr th:only-of-type {\n",
       "        vertical-align: middle;\n",
       "    }\n",
       "\n",
       "    .dataframe tbody tr th {\n",
       "        vertical-align: top;\n",
       "    }\n",
       "\n",
       "    .dataframe thead th {\n",
       "        text-align: right;\n",
       "    }\n",
       "</style>\n",
       "<table border=\"1\" class=\"dataframe\">\n",
       "  <thead>\n",
       "    <tr style=\"text-align: right;\">\n",
       "      <th></th>\n",
       "      <th>est_diameter_min</th>\n",
       "      <th>est_diameter_max</th>\n",
       "      <th>relative_velocity</th>\n",
       "      <th>miss_distance</th>\n",
       "      <th>absolute_magnitude</th>\n",
       "      <th>hazardous</th>\n",
       "    </tr>\n",
       "  </thead>\n",
       "  <tbody>\n",
       "    <tr>\n",
       "      <th>0</th>\n",
       "      <td>1.198271</td>\n",
       "      <td>2.679415</td>\n",
       "      <td>13569.249224</td>\n",
       "      <td>5.483974e+07</td>\n",
       "      <td>16.73</td>\n",
       "      <td>False</td>\n",
       "    </tr>\n",
       "    <tr>\n",
       "      <th>1</th>\n",
       "      <td>0.265800</td>\n",
       "      <td>0.594347</td>\n",
       "      <td>73588.726663</td>\n",
       "      <td>6.143813e+07</td>\n",
       "      <td>20.00</td>\n",
       "      <td>True</td>\n",
       "    </tr>\n",
       "    <tr>\n",
       "      <th>2</th>\n",
       "      <td>0.722030</td>\n",
       "      <td>1.614507</td>\n",
       "      <td>114258.692129</td>\n",
       "      <td>4.979872e+07</td>\n",
       "      <td>17.83</td>\n",
       "      <td>False</td>\n",
       "    </tr>\n",
       "    <tr>\n",
       "      <th>3</th>\n",
       "      <td>0.096506</td>\n",
       "      <td>0.215794</td>\n",
       "      <td>24764.303138</td>\n",
       "      <td>2.543497e+07</td>\n",
       "      <td>22.20</td>\n",
       "      <td>False</td>\n",
       "    </tr>\n",
       "    <tr>\n",
       "      <th>4</th>\n",
       "      <td>0.255009</td>\n",
       "      <td>0.570217</td>\n",
       "      <td>42737.733765</td>\n",
       "      <td>4.627557e+07</td>\n",
       "      <td>20.09</td>\n",
       "      <td>True</td>\n",
       "    </tr>\n",
       "  </tbody>\n",
       "</table>\n",
       "</div>"
      ],
      "text/plain": [
       "   est_diameter_min  est_diameter_max  relative_velocity  miss_distance  \\\n",
       "0          1.198271          2.679415       13569.249224   5.483974e+07   \n",
       "1          0.265800          0.594347       73588.726663   6.143813e+07   \n",
       "2          0.722030          1.614507      114258.692129   4.979872e+07   \n",
       "3          0.096506          0.215794       24764.303138   2.543497e+07   \n",
       "4          0.255009          0.570217       42737.733765   4.627557e+07   \n",
       "\n",
       "   absolute_magnitude  hazardous  \n",
       "0               16.73      False  \n",
       "1               20.00       True  \n",
       "2               17.83      False  \n",
       "3               22.20      False  \n",
       "4               20.09       True  "
      ]
     },
     "execution_count": 329,
     "metadata": {},
     "output_type": "execute_result"
    }
   ],
   "source": [
    "data.drop([\"id\", \"name\", \"orbiting_body\", \"sentry_object\"], axis=1, inplace=True)\n",
    "data.head()"
   ]
  },
  {
   "cell_type": "markdown",
   "id": "1c2f2948",
   "metadata": {},
   "source": [
    "## 1.3 Handle missing values"
   ]
  },
  {
   "cell_type": "code",
   "execution_count": 330,
   "id": "d3f65034",
   "metadata": {},
   "outputs": [],
   "source": [
    "sip = SimpleImputer(missing_values=np.nan, strategy=\"mean\")\n",
    "data.iloc[:, :-1] = sip.fit_transform(data.iloc[:, :-1].values)"
   ]
  },
  {
   "cell_type": "markdown",
   "id": "0f05794a",
   "metadata": {},
   "source": [
    "## 1.4 Detect outliers with z-score"
   ]
  },
  {
   "cell_type": "code",
   "execution_count": 331,
   "id": "55a3cb24",
   "metadata": {},
   "outputs": [],
   "source": [
    "rows_to_drop = []\n",
    "for col in data.iloc[:, :-1].columns:\n",
    "    z_scores = stats.zscore(data[col])\n",
    "    for i in range(len(z_scores)):\n",
    "        if abs(z_scores[i]) > 3:\n",
    "            rows_to_drop.append(i)\n",
    "\n",
    "rows_to_drop = list(set(rows_to_drop))\n",
    "data = data.drop(rows_to_drop)\n",
    "data.reset_index(drop=True, inplace=True)"
   ]
  },
  {
   "cell_type": "code",
   "execution_count": 332,
   "id": "a6cfc25e",
   "metadata": {},
   "outputs": [
    {
     "data": {
      "text/plain": [
       "(89021, 6)"
      ]
     },
     "execution_count": 332,
     "metadata": {},
     "output_type": "execute_result"
    }
   ],
   "source": [
    "data.shape"
   ]
  },
  {
   "cell_type": "markdown",
   "id": "986c3801",
   "metadata": {},
   "source": [
    "## 1.5 set features and label"
   ]
  },
  {
   "cell_type": "code",
   "execution_count": 333,
   "id": "bef8999e",
   "metadata": {},
   "outputs": [],
   "source": [
    "X = data.iloc[:, :-1]\n",
    "y = data.iloc[:, -1]"
   ]
  },
  {
   "cell_type": "code",
   "execution_count": 334,
   "id": "b119b7b1",
   "metadata": {},
   "outputs": [
    {
     "data": {
      "text/plain": [
       "(89021, 5)"
      ]
     },
     "execution_count": 334,
     "metadata": {},
     "output_type": "execute_result"
    }
   ],
   "source": [
    "X.shape"
   ]
  },
  {
   "cell_type": "markdown",
   "id": "5a29c8a5",
   "metadata": {},
   "source": [
    "## 1.6 Label Encoding"
   ]
  },
  {
   "cell_type": "code",
   "execution_count": 335,
   "id": "5d82dadd",
   "metadata": {},
   "outputs": [],
   "source": [
    "lb_encoder = LabelEncoder()\n",
    "y = lb_encoder.fit_transform(y)"
   ]
  },
  {
   "cell_type": "markdown",
   "id": "ffa103a0",
   "metadata": {},
   "source": [
    "## 1.7 Split data sets"
   ]
  },
  {
   "cell_type": "code",
   "execution_count": 336,
   "id": "93976e48",
   "metadata": {},
   "outputs": [],
   "source": [
    "X_train, X_test, y_train, y_test = train_test_split(X, y, test_size=0.25, random_state=0)"
   ]
  },
  {
   "cell_type": "markdown",
   "id": "e96b61c0",
   "metadata": {},
   "source": [
    "## 1.8 Feature Scaling"
   ]
  },
  {
   "cell_type": "code",
   "execution_count": 337,
   "id": "ce1c44a6",
   "metadata": {},
   "outputs": [],
   "source": [
    "sc = StandardScaler()\n",
    "X_train = sc.fit_transform(X_train)\n",
    "X_test = sc.transform(X_test)"
   ]
  },
  {
   "cell_type": "markdown",
   "id": "12f6a526",
   "metadata": {},
   "source": [
    "# 2. Logistic Regression Classifying"
   ]
  },
  {
   "cell_type": "code",
   "execution_count": 338,
   "id": "a1e82228",
   "metadata": {},
   "outputs": [
    {
     "data": {
      "text/plain": [
       "LogisticRegression(random_state=0)"
      ]
     },
     "execution_count": 338,
     "metadata": {},
     "output_type": "execute_result"
    }
   ],
   "source": [
    "lr_classif = LogisticRegression(random_state=0)\n",
    "lr_classif.fit(X_train, y_train)"
   ]
  },
  {
   "cell_type": "code",
   "execution_count": 339,
   "id": "929cee4b",
   "metadata": {},
   "outputs": [],
   "source": [
    "y_pred_lr_classif = lr_classif.predict(X_test)"
   ]
  },
  {
   "cell_type": "code",
   "execution_count": 340,
   "id": "b002dd9c",
   "metadata": {},
   "outputs": [
    {
     "data": {
      "text/plain": [
       "array([[20023,   190],\n",
       "       [ 1870,   173]])"
      ]
     },
     "execution_count": 340,
     "metadata": {},
     "output_type": "execute_result"
    }
   ],
   "source": [
    "cm_lr_classif = confusion_matrix(y_test, y_pred_lr_classif)\n",
    "cm_lr_classif"
   ]
  },
  {
   "cell_type": "code",
   "execution_count": 341,
   "id": "4a9760de",
   "metadata": {},
   "outputs": [
    {
     "name": "stdout",
     "output_type": "stream",
     "text": [
      "Accuracy for Logistic Regression Classifier: 0.907\n"
     ]
    }
   ],
   "source": [
    "acc_lr_classif = accuracy_score(y_test, y_pred_lr_classif)\n",
    "acc_lr_classif = round(acc_lr_classif, 3)\n",
    "print(\"Accuracy for Logistic Regression Classifier: {}\".format(str(acc_lr_classif)))"
   ]
  },
  {
   "cell_type": "markdown",
   "id": "fd3d871c",
   "metadata": {},
   "source": [
    "# 3. K-Nearest Neighbors"
   ]
  },
  {
   "cell_type": "code",
   "execution_count": 342,
   "id": "21223d7c",
   "metadata": {},
   "outputs": [
    {
     "data": {
      "text/plain": [
       "KNeighborsClassifier(n_neighbors=70)"
      ]
     },
     "execution_count": 342,
     "metadata": {},
     "output_type": "execute_result"
    }
   ],
   "source": [
    "knn_classif = KNeighborsClassifier(n_neighbors=70, metric=\"minkowski\", p=2)\n",
    "knn_classif.fit(X_train, y_train)"
   ]
  },
  {
   "cell_type": "code",
   "execution_count": 343,
   "id": "19f213aa",
   "metadata": {},
   "outputs": [],
   "source": [
    "y_pred_knn_classif = knn_classif.predict(X_test)"
   ]
  },
  {
   "cell_type": "code",
   "execution_count": 344,
   "id": "ca618691",
   "metadata": {},
   "outputs": [
    {
     "data": {
      "text/plain": [
       "array([[20098,   115],\n",
       "       [ 1758,   285]])"
      ]
     },
     "execution_count": 344,
     "metadata": {},
     "output_type": "execute_result"
    }
   ],
   "source": [
    "cm_knn_classif = confusion_matrix(y_test, y_pred_knn_classif)\n",
    "cm_knn_classif"
   ]
  },
  {
   "cell_type": "code",
   "execution_count": 345,
   "id": "e8de07d5",
   "metadata": {},
   "outputs": [
    {
     "name": "stdout",
     "output_type": "stream",
     "text": [
      "Accuracy for KNN Classifier: 0.916\n"
     ]
    }
   ],
   "source": [
    "acc_knn_classif = accuracy_score(y_test, y_pred_knn_classif)\n",
    "acc_knn_classif = round(acc_knn_classif, 3)\n",
    "print(\"Accuracy for KNN Classifier: {}\".format(str(acc_knn_classif)))"
   ]
  },
  {
   "cell_type": "markdown",
   "id": "9d1b00e6",
   "metadata": {},
   "source": [
    "# 4. SVC"
   ]
  },
  {
   "cell_type": "code",
   "execution_count": 346,
   "id": "8916630a",
   "metadata": {},
   "outputs": [
    {
     "data": {
      "text/plain": [
       "SVC(kernel='linear', random_state=0)"
      ]
     },
     "execution_count": 346,
     "metadata": {},
     "output_type": "execute_result"
    }
   ],
   "source": [
    "svc_classif = SVC(kernel='linear', random_state=0)\n",
    "svc_classif.fit(X_train, y_train)"
   ]
  },
  {
   "cell_type": "code",
   "execution_count": 347,
   "id": "c4f5b128",
   "metadata": {},
   "outputs": [],
   "source": [
    "y_pred_svc_classif = svc_classif.predict(X_test)"
   ]
  },
  {
   "cell_type": "code",
   "execution_count": 348,
   "id": "3bdd693d",
   "metadata": {},
   "outputs": [
    {
     "data": {
      "text/plain": [
       "array([[20213,     0],\n",
       "       [ 2043,     0]])"
      ]
     },
     "execution_count": 348,
     "metadata": {},
     "output_type": "execute_result"
    }
   ],
   "source": [
    "cm_svc_classif = confusion_matrix(y_test, y_pred_svc_classif)\n",
    "cm_svc_classif"
   ]
  },
  {
   "cell_type": "code",
   "execution_count": 349,
   "id": "949ee153",
   "metadata": {},
   "outputs": [
    {
     "name": "stdout",
     "output_type": "stream",
     "text": [
      "Accuracy for Support Vector Classifier: 0.908\n"
     ]
    }
   ],
   "source": [
    "acc_svc_classif = accuracy_score(y_test, y_pred_svc_classif)\n",
    "acc_svc_classif = round(acc_svc_classif, 3)\n",
    "print(\"Accuracy for Support Vector Classifier: {}\".format(str(acc_svc_classif)))"
   ]
  },
  {
   "cell_type": "markdown",
   "id": "cad2bce8",
   "metadata": {},
   "source": [
    "# 5. Kernel SVC"
   ]
  },
  {
   "cell_type": "code",
   "execution_count": 352,
   "id": "d8542313",
   "metadata": {},
   "outputs": [
    {
     "data": {
      "text/plain": [
       "SVC(random_state=0)"
      ]
     },
     "execution_count": 352,
     "metadata": {},
     "output_type": "execute_result"
    }
   ],
   "source": [
    "svc_kernel_classif = SVC(kernel='rbf', random_state=0)\n",
    "svc_kernel_classif.fit(X_train, y_train)"
   ]
  },
  {
   "cell_type": "code",
   "execution_count": 353,
   "id": "966aea5d",
   "metadata": {},
   "outputs": [],
   "source": [
    "y_pred_kernel_svc_classif = svc_kernel_classif.predict(X_test)"
   ]
  },
  {
   "cell_type": "code",
   "execution_count": 354,
   "id": "bd326e66",
   "metadata": {},
   "outputs": [
    {
     "data": {
      "text/plain": [
       "array([[20120,    93],\n",
       "       [ 1784,   259]])"
      ]
     },
     "execution_count": 354,
     "metadata": {},
     "output_type": "execute_result"
    }
   ],
   "source": [
    "cm_kernel_svc_classif = confusion_matrix(y_test, y_pred_kernel_svc_classif)\n",
    "cm_kernel_svc_classif"
   ]
  },
  {
   "cell_type": "code",
   "execution_count": 355,
   "id": "a00c7489",
   "metadata": {},
   "outputs": [
    {
     "name": "stdout",
     "output_type": "stream",
     "text": [
      "Accuracy for Support Vector Classifier: 0.916\n"
     ]
    }
   ],
   "source": [
    "acc_kernel_svc_classif = accuracy_score(y_test, y_pred_kernel_svc_classif)\n",
    "acc_kernel_svc_classif = round(acc_kernel_svc_classif, 3)\n",
    "print(\"Accuracy for Kernel Support Vector Classifier: {}\".format(str(acc_kernel_svc_classif)))"
   ]
  },
  {
   "cell_type": "code",
   "execution_count": null,
   "id": "baac4c0c",
   "metadata": {},
   "outputs": [],
   "source": []
  },
  {
   "cell_type": "code",
   "execution_count": null,
   "id": "164ea571",
   "metadata": {},
   "outputs": [],
   "source": []
  },
  {
   "cell_type": "code",
   "execution_count": null,
   "id": "d2af56ed",
   "metadata": {},
   "outputs": [],
   "source": []
  },
  {
   "cell_type": "code",
   "execution_count": null,
   "id": "3200d9e2",
   "metadata": {},
   "outputs": [],
   "source": []
  },
  {
   "cell_type": "code",
   "execution_count": null,
   "id": "50b0f212",
   "metadata": {},
   "outputs": [],
   "source": []
  }
 ],
 "metadata": {
  "kernelspec": {
   "display_name": "Python 3 (ipykernel)",
   "language": "python",
   "name": "python3"
  },
  "language_info": {
   "codemirror_mode": {
    "name": "ipython",
    "version": 3
   },
   "file_extension": ".py",
   "mimetype": "text/x-python",
   "name": "python",
   "nbconvert_exporter": "python",
   "pygments_lexer": "ipython3",
   "version": "3.8.10"
  }
 },
 "nbformat": 4,
 "nbformat_minor": 5
}
