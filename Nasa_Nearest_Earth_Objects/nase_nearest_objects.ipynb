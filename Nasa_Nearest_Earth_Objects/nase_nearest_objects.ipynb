{
 "cells": [
  {
   "cell_type": "code",
   "execution_count": 121,
   "id": "dd345f72",
   "metadata": {},
   "outputs": [],
   "source": [
    "# import libraries\n",
    "\n",
    "import pandas as pd\n",
    "import matplotlib.pyplot as plt\n",
    "import numpy as np\n",
    "from sklearn.impute import SimpleImputer\n",
    "from scipy import stats\n",
    "from sklearn.model_selection import train_test_split\n",
    "from sklearn.preprocessing import StandardScaler, LabelEncoder\n",
    "from sklearn.linear_model import LogisticRegression\n",
    "from sklearn.metrics import confusion_matrix, accuracy_score\n",
    "from sklearn.neighbors import KNeighborsClassifier\n",
    "from sklearn.svm import SVC\n",
    "import collections\n",
    "from sklearn.naive_bayes import GaussianNB\n",
    "from sklearn.ensemble import RandomForestClassifier\n",
    "import matplotlib.patches as ptch\n",
    "from imblearn.over_sampling import RandomOverSampler"
   ]
  },
  {
   "cell_type": "markdown",
   "id": "796b03ca",
   "metadata": {},
   "source": [
    "# 1. Pre-proccessing"
   ]
  },
  {
   "cell_type": "code",
   "execution_count": 91,
   "id": "a2603c7c",
   "metadata": {},
   "outputs": [
    {
     "data": {
      "text/html": [
       "<div>\n",
       "<style scoped>\n",
       "    .dataframe tbody tr th:only-of-type {\n",
       "        vertical-align: middle;\n",
       "    }\n",
       "\n",
       "    .dataframe tbody tr th {\n",
       "        vertical-align: top;\n",
       "    }\n",
       "\n",
       "    .dataframe thead th {\n",
       "        text-align: right;\n",
       "    }\n",
       "</style>\n",
       "<table border=\"1\" class=\"dataframe\">\n",
       "  <thead>\n",
       "    <tr style=\"text-align: right;\">\n",
       "      <th></th>\n",
       "      <th>id</th>\n",
       "      <th>name</th>\n",
       "      <th>est_diameter_min</th>\n",
       "      <th>est_diameter_max</th>\n",
       "      <th>relative_velocity</th>\n",
       "      <th>miss_distance</th>\n",
       "      <th>orbiting_body</th>\n",
       "      <th>sentry_object</th>\n",
       "      <th>absolute_magnitude</th>\n",
       "      <th>hazardous</th>\n",
       "    </tr>\n",
       "  </thead>\n",
       "  <tbody>\n",
       "    <tr>\n",
       "      <th>0</th>\n",
       "      <td>2162635</td>\n",
       "      <td>162635 (2000 SS164)</td>\n",
       "      <td>1.198271</td>\n",
       "      <td>2.679415</td>\n",
       "      <td>13569.249224</td>\n",
       "      <td>5.483974e+07</td>\n",
       "      <td>Earth</td>\n",
       "      <td>False</td>\n",
       "      <td>16.73</td>\n",
       "      <td>False</td>\n",
       "    </tr>\n",
       "    <tr>\n",
       "      <th>1</th>\n",
       "      <td>2277475</td>\n",
       "      <td>277475 (2005 WK4)</td>\n",
       "      <td>0.265800</td>\n",
       "      <td>0.594347</td>\n",
       "      <td>73588.726663</td>\n",
       "      <td>6.143813e+07</td>\n",
       "      <td>Earth</td>\n",
       "      <td>False</td>\n",
       "      <td>20.00</td>\n",
       "      <td>True</td>\n",
       "    </tr>\n",
       "    <tr>\n",
       "      <th>2</th>\n",
       "      <td>2512244</td>\n",
       "      <td>512244 (2015 YE18)</td>\n",
       "      <td>0.722030</td>\n",
       "      <td>1.614507</td>\n",
       "      <td>114258.692129</td>\n",
       "      <td>4.979872e+07</td>\n",
       "      <td>Earth</td>\n",
       "      <td>False</td>\n",
       "      <td>17.83</td>\n",
       "      <td>False</td>\n",
       "    </tr>\n",
       "    <tr>\n",
       "      <th>3</th>\n",
       "      <td>3596030</td>\n",
       "      <td>(2012 BV13)</td>\n",
       "      <td>0.096506</td>\n",
       "      <td>0.215794</td>\n",
       "      <td>24764.303138</td>\n",
       "      <td>2.543497e+07</td>\n",
       "      <td>Earth</td>\n",
       "      <td>False</td>\n",
       "      <td>22.20</td>\n",
       "      <td>False</td>\n",
       "    </tr>\n",
       "    <tr>\n",
       "      <th>4</th>\n",
       "      <td>3667127</td>\n",
       "      <td>(2014 GE35)</td>\n",
       "      <td>0.255009</td>\n",
       "      <td>0.570217</td>\n",
       "      <td>42737.733765</td>\n",
       "      <td>4.627557e+07</td>\n",
       "      <td>Earth</td>\n",
       "      <td>False</td>\n",
       "      <td>20.09</td>\n",
       "      <td>True</td>\n",
       "    </tr>\n",
       "  </tbody>\n",
       "</table>\n",
       "</div>"
      ],
      "text/plain": [
       "        id                 name  est_diameter_min  est_diameter_max  \\\n",
       "0  2162635  162635 (2000 SS164)          1.198271          2.679415   \n",
       "1  2277475    277475 (2005 WK4)          0.265800          0.594347   \n",
       "2  2512244   512244 (2015 YE18)          0.722030          1.614507   \n",
       "3  3596030          (2012 BV13)          0.096506          0.215794   \n",
       "4  3667127          (2014 GE35)          0.255009          0.570217   \n",
       "\n",
       "   relative_velocity  miss_distance orbiting_body  sentry_object  \\\n",
       "0       13569.249224   5.483974e+07         Earth          False   \n",
       "1       73588.726663   6.143813e+07         Earth          False   \n",
       "2      114258.692129   4.979872e+07         Earth          False   \n",
       "3       24764.303138   2.543497e+07         Earth          False   \n",
       "4       42737.733765   4.627557e+07         Earth          False   \n",
       "\n",
       "   absolute_magnitude  hazardous  \n",
       "0               16.73      False  \n",
       "1               20.00       True  \n",
       "2               17.83      False  \n",
       "3               22.20      False  \n",
       "4               20.09       True  "
      ]
     },
     "execution_count": 91,
     "metadata": {},
     "output_type": "execute_result"
    }
   ],
   "source": [
    "data = pd.read_csv(\"neo_v2.csv\")\n",
    "data.head()"
   ]
  },
  {
   "cell_type": "code",
   "execution_count": 92,
   "id": "a65f6269",
   "metadata": {},
   "outputs": [
    {
     "data": {
      "text/plain": [
       "(90836, 10)"
      ]
     },
     "execution_count": 92,
     "metadata": {},
     "output_type": "execute_result"
    }
   ],
   "source": [
    "data.shape"
   ]
  },
  {
   "cell_type": "code",
   "execution_count": 93,
   "id": "8e8445bd",
   "metadata": {},
   "outputs": [
    {
     "data": {
      "text/html": [
       "<div>\n",
       "<style scoped>\n",
       "    .dataframe tbody tr th:only-of-type {\n",
       "        vertical-align: middle;\n",
       "    }\n",
       "\n",
       "    .dataframe tbody tr th {\n",
       "        vertical-align: top;\n",
       "    }\n",
       "\n",
       "    .dataframe thead th {\n",
       "        text-align: right;\n",
       "    }\n",
       "</style>\n",
       "<table border=\"1\" class=\"dataframe\">\n",
       "  <thead>\n",
       "    <tr style=\"text-align: right;\">\n",
       "      <th></th>\n",
       "      <th>est_diameter_min</th>\n",
       "      <th>est_diameter_max</th>\n",
       "      <th>relative_velocity</th>\n",
       "      <th>miss_distance</th>\n",
       "      <th>absolute_magnitude</th>\n",
       "      <th>hazardous</th>\n",
       "    </tr>\n",
       "  </thead>\n",
       "  <tbody>\n",
       "    <tr>\n",
       "      <th>0</th>\n",
       "      <td>1.198271</td>\n",
       "      <td>2.679415</td>\n",
       "      <td>13569.249224</td>\n",
       "      <td>5.483974e+07</td>\n",
       "      <td>16.73</td>\n",
       "      <td>False</td>\n",
       "    </tr>\n",
       "    <tr>\n",
       "      <th>1</th>\n",
       "      <td>0.265800</td>\n",
       "      <td>0.594347</td>\n",
       "      <td>73588.726663</td>\n",
       "      <td>6.143813e+07</td>\n",
       "      <td>20.00</td>\n",
       "      <td>True</td>\n",
       "    </tr>\n",
       "    <tr>\n",
       "      <th>2</th>\n",
       "      <td>0.722030</td>\n",
       "      <td>1.614507</td>\n",
       "      <td>114258.692129</td>\n",
       "      <td>4.979872e+07</td>\n",
       "      <td>17.83</td>\n",
       "      <td>False</td>\n",
       "    </tr>\n",
       "    <tr>\n",
       "      <th>3</th>\n",
       "      <td>0.096506</td>\n",
       "      <td>0.215794</td>\n",
       "      <td>24764.303138</td>\n",
       "      <td>2.543497e+07</td>\n",
       "      <td>22.20</td>\n",
       "      <td>False</td>\n",
       "    </tr>\n",
       "    <tr>\n",
       "      <th>4</th>\n",
       "      <td>0.255009</td>\n",
       "      <td>0.570217</td>\n",
       "      <td>42737.733765</td>\n",
       "      <td>4.627557e+07</td>\n",
       "      <td>20.09</td>\n",
       "      <td>True</td>\n",
       "    </tr>\n",
       "  </tbody>\n",
       "</table>\n",
       "</div>"
      ],
      "text/plain": [
       "   est_diameter_min  est_diameter_max  relative_velocity  miss_distance  \\\n",
       "0          1.198271          2.679415       13569.249224   5.483974e+07   \n",
       "1          0.265800          0.594347       73588.726663   6.143813e+07   \n",
       "2          0.722030          1.614507      114258.692129   4.979872e+07   \n",
       "3          0.096506          0.215794       24764.303138   2.543497e+07   \n",
       "4          0.255009          0.570217       42737.733765   4.627557e+07   \n",
       "\n",
       "   absolute_magnitude  hazardous  \n",
       "0               16.73      False  \n",
       "1               20.00       True  \n",
       "2               17.83      False  \n",
       "3               22.20      False  \n",
       "4               20.09       True  "
      ]
     },
     "execution_count": 93,
     "metadata": {},
     "output_type": "execute_result"
    }
   ],
   "source": [
    "data.drop([\"id\", \"name\", \"orbiting_body\", \"sentry_object\"], axis=1, inplace=True)\n",
    "data.head()"
   ]
  },
  {
   "cell_type": "markdown",
   "id": "1c2f2948",
   "metadata": {},
   "source": [
    "## 1.3 Handle missing values"
   ]
  },
  {
   "cell_type": "code",
   "execution_count": 94,
   "id": "d3f65034",
   "metadata": {},
   "outputs": [],
   "source": [
    "sip = SimpleImputer(missing_values=np.nan, strategy=\"median\")\n",
    "data.iloc[:, :-1] = sip.fit_transform(data.iloc[:, :-1].values)"
   ]
  },
  {
   "cell_type": "markdown",
   "id": "986c3801",
   "metadata": {},
   "source": [
    "## 1.4 set features and label"
   ]
  },
  {
   "cell_type": "code",
   "execution_count": 95,
   "id": "bef8999e",
   "metadata": {},
   "outputs": [],
   "source": [
    "X = data.iloc[:, :-1]\n",
    "y = data.iloc[:, -1]"
   ]
  },
  {
   "cell_type": "code",
   "execution_count": 96,
   "id": "b119b7b1",
   "metadata": {},
   "outputs": [
    {
     "data": {
      "text/plain": [
       "(90836, 5)"
      ]
     },
     "execution_count": 96,
     "metadata": {},
     "output_type": "execute_result"
    }
   ],
   "source": [
    "X.shape"
   ]
  },
  {
   "cell_type": "markdown",
   "id": "5a29c8a5",
   "metadata": {},
   "source": [
    "## 1.5 Label Encoding"
   ]
  },
  {
   "cell_type": "code",
   "execution_count": 97,
   "id": "5d82dadd",
   "metadata": {},
   "outputs": [],
   "source": [
    "lb_encoder = LabelEncoder()\n",
    "y = lb_encoder.fit_transform(y)"
   ]
  },
  {
   "cell_type": "markdown",
   "id": "bbdee013",
   "metadata": {},
   "source": [
    "## 1.6 Resampling due to imbalanced dataset"
   ]
  },
  {
   "cell_type": "markdown",
   "id": "d484185f",
   "metadata": {},
   "source": [
    "First we check how much data is imbalanced"
   ]
  },
  {
   "cell_type": "code",
   "execution_count": 98,
   "id": "47aa2de8",
   "metadata": {},
   "outputs": [
    {
     "name": "stdout",
     "output_type": "stream",
     "text": [
      "Majority class percentage: 90%\n"
     ]
    }
   ],
   "source": [
    "minority_class_percent = 100 - round(sum(y) / len(y) * 100)\n",
    "print(\"Minority class percentage: {}%\".format(str(minority_class_percent)))"
   ]
  },
  {
   "cell_type": "code",
   "execution_count": 99,
   "id": "a4de28a1",
   "metadata": {},
   "outputs": [
    {
     "name": "stdout",
     "output_type": "stream",
     "text": [
      "90836\n",
      "Majority class percentage: 50%\n"
     ]
    }
   ],
   "source": [
    "# over sampling\n",
    "\n",
    "print(len(X))\n",
    "random_over_sampler = RandomOverSampler()\n",
    "X, y = random_over_sampler.fit_resample(X, y)\n",
    "minority_class_percent = 100 - round(sum(y) / len(y) * 100)\n",
    "print(len(X))\n",
    "print(\"Minority class percentage: {}%\".format(str(minority_class_percent)))"
   ]
  },
  {
   "cell_type": "markdown",
   "id": "ffa103a0",
   "metadata": {},
   "source": [
    "## 1.7 Split data sets and Base Accuracy"
   ]
  },
  {
   "cell_type": "code",
   "execution_count": 100,
   "id": "93976e48",
   "metadata": {},
   "outputs": [
    {
     "name": "stdout",
     "output_type": "stream",
     "text": [
      "Base Accuracy: 0.505\n"
     ]
    }
   ],
   "source": [
    "X_train, X_test, y_train, y_test = train_test_split(X, y, test_size=0.2, random_state=0)\n",
    "base_line_for_accuracy = 0\n",
    "counters = collections.Counter(y_test)\n",
    "labels = list(set(y_test))\n",
    "if counters[labels[0]] > counters[labels[1]]:\n",
    "    base_line_for_accuracy = counters[labels[0]] / len(y_test)\n",
    "else:\n",
    "    base_line_for_accuracy = counters[labels[1]] / len(y_test)\n",
    "base_line_for_accuracy = round(base_line_for_accuracy, 3)\n",
    "print(\"Base Accuracy: {}\".format(str(base_line_for_accuracy)))"
   ]
  },
  {
   "cell_type": "markdown",
   "id": "e96b61c0",
   "metadata": {},
   "source": [
    "## 1.8 Feature Scaling"
   ]
  },
  {
   "cell_type": "code",
   "execution_count": 101,
   "id": "ce1c44a6",
   "metadata": {},
   "outputs": [],
   "source": [
    "sc = StandardScaler()\n",
    "X_train = sc.fit_transform(X_train)\n",
    "X_test = sc.transform(X_test)"
   ]
  },
  {
   "cell_type": "markdown",
   "id": "12f6a526",
   "metadata": {},
   "source": [
    "# 2. Logistic Regression Classifying"
   ]
  },
  {
   "cell_type": "code",
   "execution_count": 102,
   "id": "5855aea0",
   "metadata": {},
   "outputs": [],
   "source": [
    "def run_Logistic_Reg_Classifier(X_train, X_test, y_train, y_test, base_acc):\n",
    "    lr_classif = LogisticRegression(random_state=0)\n",
    "    lr_classif.fit(X_train, y_train)\n",
    "    y_pred_lr_classif = lr_classif.predict(X_test)\n",
    "    cm_lr_classif = confusion_matrix(y_test, y_pred_lr_classif)\n",
    "    print(\"Confusion Matrix\")\n",
    "    print(cm_lr_classif)\n",
    "    acc_lr_classif = accuracy_score(y_test, y_pred_lr_classif)\n",
    "    acc_lr_classif = round(acc_lr_classif, 3)\n",
    "    print()\n",
    "    print(\"Accuracy for Logistic Regression Classifier: {}\".format(str(acc_lr_classif)))\n",
    "    print(\"Base Line Accuracy is: {}\".format(str(base_acc)))\n",
    "    return [y_pred_lr_classif, acc_lr_classif, cm_lr_classif[1][0]]"
   ]
  },
  {
   "cell_type": "code",
   "execution_count": 103,
   "id": "4a9760de",
   "metadata": {},
   "outputs": [
    {
     "name": "stdout",
     "output_type": "stream",
     "text": [
      "Confusion Matrix\n",
      "[[12545  3705]\n",
      " [ 1191 15358]]\n",
      "\n",
      "Accuracy for Logistic Regression Classifier: 0.851\n",
      "Base Line Accuracy is: 0.505\n"
     ]
    }
   ],
   "source": [
    "y_pred_logistic_reg, acc_lr_classif, cm_lr_classif = run_Logistic_Reg_Classifier(X_train, X_test, y_train, y_test, base_line_for_accuracy)"
   ]
  },
  {
   "cell_type": "markdown",
   "id": "fd3d871c",
   "metadata": {},
   "source": [
    "# 3. K-Nearest Neighbors"
   ]
  },
  {
   "cell_type": "code",
   "execution_count": 104,
   "id": "44e2b0f5",
   "metadata": {},
   "outputs": [],
   "source": [
    "def run_KNN_Classifier(X_train, X_test, y_train, y_test, base_acc):\n",
    "    knn_classif = KNeighborsClassifier(n_neighbors=70, metric=\"minkowski\", p=2)\n",
    "    knn_classif.fit(X_train, y_train)\n",
    "    y_pred_knn_classif = knn_classif.predict(X_test)\n",
    "    cm_knn_classif = confusion_matrix(y_test, y_pred_knn_classif)\n",
    "    print(\"Confusion Matrix\")\n",
    "    print(cm_knn_classif)\n",
    "    acc_knn_classif = accuracy_score(y_test, y_pred_knn_classif)\n",
    "    acc_knn_classif = round(acc_knn_classif, 3)\n",
    "    print()\n",
    "    print(\"Accuracy for KNN Classifier: {}\".format(str(acc_knn_classif)))\n",
    "    print(\"Base Line Accuracy is: {}\".format(str(base_acc)))\n",
    "    return  [y_pred_knn_classif, acc_knn_classif, cm_knn_classif[1][0]]"
   ]
  },
  {
   "cell_type": "code",
   "execution_count": 105,
   "id": "21223d7c",
   "metadata": {},
   "outputs": [
    {
     "name": "stdout",
     "output_type": "stream",
     "text": [
      "Confusion Matrix\n",
      "[[12290  3960]\n",
      " [  191 16358]]\n",
      "\n",
      "Accuracy for KNN Classifier: 0.873\n",
      "Base Line Accuracy is: 0.505\n"
     ]
    }
   ],
   "source": [
    "y_pred_knn, acc_knn_classif, cm_knn_classif = run_KNN_Classifier(X_train, X_test, y_train, y_test, base_line_for_accuracy)"
   ]
  },
  {
   "cell_type": "markdown",
   "id": "9d1b00e6",
   "metadata": {},
   "source": [
    "# 4. SVC"
   ]
  },
  {
   "cell_type": "code",
   "execution_count": 106,
   "id": "eee6cbd7",
   "metadata": {},
   "outputs": [],
   "source": [
    "def run_svc_Classifier(X_train, X_test, y_train, y_test, kernel, base_acc):\n",
    "    svc_classif = SVC(kernel=kernel, random_state=0)\n",
    "    svc_classif.fit(X_train, y_train)\n",
    "    y_pred_svc_classif = svc_classif.predict(X_test)\n",
    "    cm_svc_classif = confusion_matrix(y_test, y_pred_svc_classif)\n",
    "    print(\"Confusion Matrix\")\n",
    "    print(cm_svc_classif)\n",
    "    acc_svc_classif = accuracy_score(y_test, y_pred_svc_classif)\n",
    "    acc_svc_classif = round(acc_svc_classif, 3)\n",
    "    print()\n",
    "    print(\"Accuracy for Support Vector Classifier with \" + kernel +  \" kernel: {}\".format(str(acc_svc_classif)))\n",
    "    print(\"Base Line Accuracy is: {}\".format(str(base_acc)))\n",
    "    return [y_pred_svc_classif, acc_svc_classif, cm_svc_classif[1][0]]"
   ]
  },
  {
   "cell_type": "code",
   "execution_count": 107,
   "id": "949ee153",
   "metadata": {},
   "outputs": [
    {
     "name": "stdout",
     "output_type": "stream",
     "text": [
      "Confusion Matrix\n",
      "[[11922  4328]\n",
      " [  304 16245]]\n",
      "\n",
      "Accuracy for Support Vector Classifier with linear kernel: 0.859\n",
      "Base Line Accuracy is: 0.505\n"
     ]
    }
   ],
   "source": [
    "y_pred_linear_svc, acc_svc_linear_classif, cm_svc_classif = run_svc_Classifier(X_train, X_test, y_train, y_test, 'linear', base_line_for_accuracy)"
   ]
  },
  {
   "cell_type": "markdown",
   "id": "cad2bce8",
   "metadata": {},
   "source": [
    "# 5. Kernel SVC"
   ]
  },
  {
   "cell_type": "code",
   "execution_count": 108,
   "id": "baac4c0c",
   "metadata": {},
   "outputs": [
    {
     "name": "stdout",
     "output_type": "stream",
     "text": [
      "Confusion Matrix\n",
      "[[12065  4185]\n",
      " [   93 16456]]\n",
      "\n",
      "Accuracy for Support Vector Classifier with rbf kernel: 0.87\n",
      "Base Line Accuracy is: 0.505\n"
     ]
    }
   ],
   "source": [
    "y_pred_kernel_svc, acc_svc_kernel_classif, cm_kernel_svc_classif = run_svc_Classifier(X_train, X_test, y_train, y_test, 'rbf', base_line_for_accuracy)"
   ]
  },
  {
   "cell_type": "markdown",
   "id": "75d84685",
   "metadata": {},
   "source": [
    "# 6. Naive Bayes"
   ]
  },
  {
   "cell_type": "code",
   "execution_count": 109,
   "id": "2cd8bedb",
   "metadata": {},
   "outputs": [],
   "source": [
    "def run_naive_bayes(X_train, X_test, y_train, y_test, base_acc):\n",
    "    nb_classif = GaussianNB()\n",
    "    nb_classif.fit(X_train, y_train)\n",
    "    y_nb_pred = nb_classif.predict(X_test)\n",
    "    cm_nb_classif = confusion_matrix(y_test, y_nb_pred)\n",
    "    print(\"Confusion Matrix\")\n",
    "    print(cm_nb_classif)\n",
    "    acc_nb_classif = accuracy_score(y_test, y_nb_pred)\n",
    "    acc_nb_classif = round(acc_nb_classif, 3)\n",
    "    print()\n",
    "    print(\"Accuracy for Naive Bayes Classifier: {}\".format(str(acc_nb_classif)))\n",
    "    print(\"Base Line Accuracy is: {}\".format(str(base_acc)))\n",
    "    return [y_nb_pred, acc_nb_classif, cm_nb_classif[1][0]]"
   ]
  },
  {
   "cell_type": "code",
   "execution_count": 110,
   "id": "40b954c5",
   "metadata": {},
   "outputs": [
    {
     "name": "stdout",
     "output_type": "stream",
     "text": [
      "Confusion Matrix\n",
      "[[12480  3770]\n",
      " [ 1740 14809]]\n",
      "\n",
      "Accuracy for Naive Bayes Classifier: 0.832\n",
      "Base Line Accuracy is: 0.505\n"
     ]
    }
   ],
   "source": [
    "y_pred_naive_bayes, acc_nb_classif, cm_nb_classif = run_naive_bayes(X_train, X_test, y_train, y_test, base_line_for_accuracy)"
   ]
  },
  {
   "cell_type": "markdown",
   "id": "4dcf5641",
   "metadata": {},
   "source": [
    "# 7. Random Forest"
   ]
  },
  {
   "cell_type": "code",
   "execution_count": 111,
   "id": "3f5f3d6c",
   "metadata": {},
   "outputs": [],
   "source": [
    "def run_random_forest(X_train, X_test, y_train, y_test, base_acc):\n",
    "    rf_classif = RandomForestClassifier(n_estimators=100, criterion='entropy', random_state=0)\n",
    "    rf_classif.fit(X_train, y_train)\n",
    "    y_pred_rf = rf_classif.predict(X_test)\n",
    "    cm_rf_classif = confusion_matrix(y_test, y_pred_rf)\n",
    "    print(\"Confusion Matrix\")\n",
    "    print(cm_rf_classif)\n",
    "    acc_rf_classif = accuracy_score(y_test, y_pred_rf)\n",
    "    acc_rf_classif = round(acc_rf_classif, 3)\n",
    "    print()\n",
    "    print(\"Accuracy for Random Forest Classifier: {}\".format(str(acc_rf_classif)))\n",
    "    print(\"Base Line Accuracy is: {}\".format(str(base_acc)))\n",
    "    return [y_pred_rf, acc_rf_classif, cm_rf_classif[1][0]]"
   ]
  },
  {
   "cell_type": "code",
   "execution_count": 112,
   "id": "d2af56ed",
   "metadata": {},
   "outputs": [
    {
     "name": "stdout",
     "output_type": "stream",
     "text": [
      "Confusion Matrix\n",
      "[[15232  1018]\n",
      " [    4 16545]]\n",
      "\n",
      "Accuracy for Random Forest Classifier: 0.969\n",
      "Base Line Accuracy is: 0.505\n"
     ]
    }
   ],
   "source": [
    "y_pred_random_forest, acc_rf_classif, cm_rf_classif = run_random_forest(X_train, X_test, y_train, y_test, base_line_for_accuracy)"
   ]
  },
  {
   "cell_type": "markdown",
   "id": "13a1c5cc",
   "metadata": {},
   "source": [
    "# 8. Accuracy comparison"
   ]
  },
  {
   "cell_type": "code",
   "execution_count": 113,
   "id": "cadebf17",
   "metadata": {},
   "outputs": [
    {
     "name": "stdout",
     "output_type": "stream",
     "text": [
      "Base Line Accuracy is: 0.505\n",
      "Accuracy for Logistic Regression Classifier: 0.851\n",
      "Accuracy for KNN Classifier: 0.873\n",
      "Accuracy for Support Vector Classifier with linear kernel: 0.859\n",
      "Accuracy for Support Vector Classifier with rbf kernel: 0.87\n",
      "Accuracy for Naive Bayes Classifier: 0.832\n",
      "Accuracy for Random Forest Classifier: 0.969\n"
     ]
    }
   ],
   "source": [
    "print(\"Base Line Accuracy is: {}\".format(str(base_line_for_accuracy)))\n",
    "print(\"Accuracy for Logistic Regression Classifier: {}\".format(str(acc_lr_classif)))\n",
    "print(\"Accuracy for KNN Classifier: {}\".format(str(acc_knn_classif)))\n",
    "print(\"Accuracy for Support Vector Classifier with linear kernel: {}\".format(str(acc_svc_linear_classif)))\n",
    "print(\"Accuracy for Support Vector Classifier with rbf kernel: {}\".format(str(acc_svc_kernel_classif)))\n",
    "print(\"Accuracy for Naive Bayes Classifier: {}\".format(str(acc_nb_classif)))\n",
    "print(\"Accuracy for Random Forest Classifier: {}\".format(str(acc_rf_classif)))"
   ]
  },
  {
   "cell_type": "code",
   "execution_count": 114,
   "id": "50541b55",
   "metadata": {},
   "outputs": [
    {
     "data": {
      "image/png": "[encoded data removed]",
      "text/plain": [
       "<Figure size 1080x720 with 1 Axes>"
      ]
     },
     "metadata": {
      "needs_background": "light"
     },
     "output_type": "display_data"
    }
   ],
   "source": [
    "plt.figure(figsize = (15, 10))\n",
    "plt.ylabel(\"Accuracy\")\n",
    "plt.title(\"Accuracy Comparison plot (red line is the base Accuracy)\")\n",
    "\n",
    "x_axis = [\"Random Forest\", \"Logistic Regression\", \"K Nearest Neighbor\", \"rbf kernel SVC\", \"Naive Bayes\", \"Linear kernel SVC\"]\n",
    "y_axis = [acc_rf_classif, acc_lr_classif, acc_knn_classif, acc_svc_kernel_classif, acc_nb_classif, acc_svc_linear_classif]\n",
    "\n",
    "base_y = [base_line_for_accuracy] * len(x_axis)\n",
    "\n",
    "# plt.plot(x_axis, base_y, c='r')\n",
    "plt.axhline(y=base_line_for_accuracy, color=\"red\")\n",
    "plt.bar(x_axis, y_axis)\n",
    "plt.show()"
   ]
  },
  {
   "cell_type": "markdown",
   "id": "d3419248",
   "metadata": {},
   "source": [
    "## 8.1 False Negative Comparison"
   ]
  },
  {
   "cell_type": "code",
   "execution_count": 115,
   "id": "ed753715",
   "metadata": {},
   "outputs": [
    {
     "data": {
      "image/png": "[encoded data removed]",
      "text/plain": [
       "<Figure size 1080x720 with 1 Axes>"
      ]
     },
     "metadata": {
      "needs_background": "light"
     },
     "output_type": "display_data"
    }
   ],
   "source": [
    "plt.figure(figsize = (15, 10))\n",
    "plt.ylabel(\"False Negative cases\")\n",
    "plt.title(\"False Negative Comparison plot\")\n",
    "\n",
    "x_axis = [\"Random Forest\", \"Logistic Regression\", \"K Nearest Neighbor\", \"rbf kernel SVC\", \"Naive Bayes\", \"Linear kernel SVC\"]\n",
    "y_axis = [cm_rf_classif, cm_lr_classif, cm_knn_classif, cm_kernel_svc_classif, cm_nb_classif, cm_svc_classif]\n",
    "plt.bar(x_axis, y_axis)\n",
    "plt.show()"
   ]
  },
  {
   "cell_type": "markdown",
   "id": "4e1d9c75",
   "metadata": {},
   "source": [
    "# 9. Accuracy Evaluation with CAP"
   ]
  },
  {
   "cell_type": "code",
   "execution_count": 116,
   "id": "a34c0027",
   "metadata": {},
   "outputs": [],
   "source": [
    "total_classes = len(y_test)\n",
    "first_class_count = np.sum(y_test)\n",
    "second_class_count = total_classes - first_class_count"
   ]
  },
  {
   "cell_type": "code",
   "execution_count": 117,
   "id": "79e9722a",
   "metadata": {},
   "outputs": [],
   "source": [
    "def make_y_axis_values(y_pred, y_test):\n",
    "    model_y = [y for _, y in sorted(zip(y_pred, y_test), reverse=True)]\n",
    "    return np.append([0], np.cumsum(model_y))"
   ]
  },
  {
   "cell_type": "code",
   "execution_count": 118,
   "id": "929e6dcd",
   "metadata": {},
   "outputs": [
    {
     "data": {
      "image/png": "[encoded data removed]",
      "text/plain": [
       "<Figure size 936x720 with 1 Axes>"
      ]
     },
     "metadata": {
      "needs_background": "light"
     },
     "output_type": "display_data"
    }
   ],
   "source": [
    "plt.figure(figsize = (13, 10))\n",
    "plt.ylabel(\"Hazardous count\")\n",
    "plt.xlabel(\"Test sample\")\n",
    "plt.title(\"CAP Evaluation plot\")\n",
    "red_patch= ptch.Patch(color=\"red\", label=\"Random Model\")\n",
    "green_patch= ptch.Patch(color=\"green\", label=\"Perfect Model\")\n",
    "x_axis = [x for x in range(total_classes + 1)]\n",
    "\n",
    "red_patch= ptch.Patch(color=\"red\", label=\"Base Line Accuracy\")\n",
    "blue_patch= ptch.Patch(color=\"blue\", label=\"Random Forest\")\n",
    "gray_patch= ptch.Patch(color=\"gray\", label=\"Logistic Regression\")\n",
    "orange_patch= ptch.Patch(color=\"orange\", label=\"K Nearest Neighbor\")\n",
    "black_patch= ptch.Patch(color=\"black\", label=\"rbf kernel SVC\")\n",
    "brown_patch= ptch.Patch(color=\"brown\", label=\"Naive Bayes\")\n",
    "yellow_patch= ptch.Patch(color=\"yellow\", label=\"Linear kernel SVC\")\n",
    "\n",
    "rf_y = make_y_axis_values(y_pred_random_forest, y_test)\n",
    "logistic_reg_y = make_y_axis_values(y_pred_logistic_reg, y_test)\n",
    "knn_y = make_y_axis_values(y_pred_knn, y_test)\n",
    "svc_y = make_y_axis_values(y_pred_linear_svc, y_test)\n",
    "kernel_svc_y = make_y_axis_values(y_pred_kernel_svc, y_test)\n",
    "nb_y = make_y_axis_values(y_pred_naive_bayes, y_test)\n",
    "\n",
    "half_x = int((50*total_classes / 100))\n",
    "\n",
    "plt.legend(handles=[red_patch, green_patch, blue_patch, gray_patch, orange_patch, yellow_patch, black_patch, brown_patch], loc=4, prop={'size': 12})\n",
    "plt.plot([0, total_classes], [0, first_class_count], c='r', linestyle='--')\n",
    "plt.plot(x_axis, rf_y, c='blue')\n",
    "plt.plot(x_axis, logistic_reg_y, c='gray')\n",
    "plt.plot(x_axis, knn_y, c='orange')\n",
    "plt.plot(x_axis, svc_y, c='yellow')\n",
    "plt.plot(x_axis, kernel_svc_y, c='black')\n",
    "plt.plot(x_axis, nb_y, c='brown')\n",
    "plt.plot([0, first_class_count, total_classes], [0, first_class_count, first_class_count], c='green')\n",
    "plt.show()"
   ]
  },
  {
   "cell_type": "code",
   "execution_count": 120,
   "id": "81943a68",
   "metadata": {},
   "outputs": [
    {
     "name": "stdout",
     "output_type": "stream",
     "text": [
      "CAP project on 50% for Naive Bayes: 89.4857695329023\n",
      "CAP project on 50% for Logistic Regression: 92.80319052510725\n",
      "CAP project on 50% for K Nearest Neighbor: 98.84585171309445\n",
      "CAP project on 50% for Linear kernel SVC: 98.1630309988519\n",
      "CAP project on 50% for rbf kernel SVC: 99.09360082180193\n",
      "CAP project on 50% for Random Forest: 99.09360082180193\n"
     ]
    }
   ],
   "source": [
    "print(\"CAP project on 50% for Naive Bayes: {}\".format(str(nb_y[half_x] * 100 / max(nb_y))))\n",
    "print(\"CAP project on 50% for Logistic Regression: {}\".format(str(logistic_reg_y[half_x] * 100 / max(logistic_reg_y))))\n",
    "print(\"CAP project on 50% for K Nearest Neighbor: {}\".format(str(knn_y[half_x] * 100 / max(knn_y))))\n",
    "print(\"CAP project on 50% for Linear kernel SVC: {}\".format(str(svc_y[half_x] * 100 / max(svc_y))))\n",
    "print(\"CAP project on 50% for rbf kernel SVC: {}\".format(str(kernel_svc_y[half_x] * 100 / max(kernel_svc_y))))\n",
    "print(\"CAP project on 50% for Random Forest: {}\".format(str(rf_y[half_x] * 100 / max(rf_y))))"
   ]
  },
  {
   "cell_type": "code",
   "execution_count": null,
   "id": "0f079bde",
   "metadata": {},
   "outputs": [],
   "source": []
  }
 ],
 "metadata": {
  "kernelspec": {
   "display_name": "Python 3 (ipykernel)",
   "language": "python",
   "name": "python3"
  },
  "language_info": {
   "codemirror_mode": {
    "name": "ipython",
    "version": 3
   },
   "file_extension": ".py",
   "mimetype": "text/x-python",
   "name": "python",
   "nbconvert_exporter": "python",
   "pygments_lexer": "ipython3",
   "version": "3.8.10"
  }
 },
 "nbformat": 4,
 "nbformat_minor": 5
}
