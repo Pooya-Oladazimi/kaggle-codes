{
 "cells": [
  {
   "cell_type": "code",
   "execution_count": 3,
   "id": "ea24b9b6",
   "metadata": {},
   "outputs": [],
   "source": [
    "import pandas as pd\n",
    "import math\n",
    "import matplotlib.pyplot as plt\n",
    "import numpy as np\n",
    "from scipy import stats\n",
    "import random"
   ]
  },
  {
   "cell_type": "code",
   "execution_count": 2,
   "id": "f881a81c",
   "metadata": {},
   "outputs": [
    {
     "data": {
      "text/html": [
       "<div>\n",
       "<style scoped>\n",
       "    .dataframe tbody tr th:only-of-type {\n",
       "        vertical-align: middle;\n",
       "    }\n",
       "\n",
       "    .dataframe tbody tr th {\n",
       "        vertical-align: top;\n",
       "    }\n",
       "\n",
       "    .dataframe thead th {\n",
       "        text-align: right;\n",
       "    }\n",
       "</style>\n",
       "<table border=\"1\" class=\"dataframe\">\n",
       "  <thead>\n",
       "    <tr style=\"text-align: right;\">\n",
       "      <th></th>\n",
       "      <th>Ad 1</th>\n",
       "      <th>Ad 2</th>\n",
       "      <th>Ad 3</th>\n",
       "      <th>Ad 4</th>\n",
       "      <th>Ad 5</th>\n",
       "      <th>Ad 6</th>\n",
       "      <th>Ad 7</th>\n",
       "      <th>Ad 8</th>\n",
       "      <th>Ad 9</th>\n",
       "      <th>Ad 10</th>\n",
       "    </tr>\n",
       "  </thead>\n",
       "  <tbody>\n",
       "    <tr>\n",
       "      <th>0</th>\n",
       "      <td>1</td>\n",
       "      <td>0</td>\n",
       "      <td>0</td>\n",
       "      <td>0</td>\n",
       "      <td>1</td>\n",
       "      <td>0</td>\n",
       "      <td>0</td>\n",
       "      <td>0</td>\n",
       "      <td>1</td>\n",
       "      <td>0</td>\n",
       "    </tr>\n",
       "    <tr>\n",
       "      <th>1</th>\n",
       "      <td>0</td>\n",
       "      <td>0</td>\n",
       "      <td>0</td>\n",
       "      <td>0</td>\n",
       "      <td>0</td>\n",
       "      <td>0</td>\n",
       "      <td>0</td>\n",
       "      <td>0</td>\n",
       "      <td>1</td>\n",
       "      <td>0</td>\n",
       "    </tr>\n",
       "    <tr>\n",
       "      <th>2</th>\n",
       "      <td>0</td>\n",
       "      <td>0</td>\n",
       "      <td>0</td>\n",
       "      <td>0</td>\n",
       "      <td>0</td>\n",
       "      <td>0</td>\n",
       "      <td>0</td>\n",
       "      <td>0</td>\n",
       "      <td>0</td>\n",
       "      <td>0</td>\n",
       "    </tr>\n",
       "    <tr>\n",
       "      <th>3</th>\n",
       "      <td>0</td>\n",
       "      <td>1</td>\n",
       "      <td>0</td>\n",
       "      <td>0</td>\n",
       "      <td>0</td>\n",
       "      <td>0</td>\n",
       "      <td>0</td>\n",
       "      <td>1</td>\n",
       "      <td>0</td>\n",
       "      <td>0</td>\n",
       "    </tr>\n",
       "    <tr>\n",
       "      <th>4</th>\n",
       "      <td>0</td>\n",
       "      <td>0</td>\n",
       "      <td>0</td>\n",
       "      <td>0</td>\n",
       "      <td>0</td>\n",
       "      <td>0</td>\n",
       "      <td>0</td>\n",
       "      <td>0</td>\n",
       "      <td>0</td>\n",
       "      <td>0</td>\n",
       "    </tr>\n",
       "  </tbody>\n",
       "</table>\n",
       "</div>"
      ],
      "text/plain": [
       "   Ad 1  Ad 2  Ad 3  Ad 4  Ad 5  Ad 6  Ad 7  Ad 8  Ad 9  Ad 10\n",
       "0     1     0     0     0     1     0     0     0     1      0\n",
       "1     0     0     0     0     0     0     0     0     1      0\n",
       "2     0     0     0     0     0     0     0     0     0      0\n",
       "3     0     1     0     0     0     0     0     1     0      0\n",
       "4     0     0     0     0     0     0     0     0     0      0"
      ]
     },
     "execution_count": 2,
     "metadata": {},
     "output_type": "execute_result"
    }
   ],
   "source": [
    "data = pd.read_csv(\"Ads_CTR_Optimisation.csv\")\n",
    "data.head()"
   ]
  },
  {
   "cell_type": "markdown",
   "id": "23010c67",
   "metadata": {},
   "source": [
    "## Thompson Sampling"
   ]
  },
  {
   "cell_type": "code",
   "execution_count": 4,
   "id": "50bf9bbc",
   "metadata": {},
   "outputs": [],
   "source": [
    "def thompson_sampling(num_of_rounds, data):\n",
    "    '''\n",
    "        The Thompson Sampling function.\n",
    "        \n",
    "        Args:\n",
    "            - num_of_rounds: how many rounds the function should run\n",
    "            - data: the target data\n",
    "        \n",
    "        Return:\n",
    "            - An array of the selected targets on each round\n",
    "    '''\n",
    "    \n",
    "    ads_count = len(data.columns)\n",
    "    selected_ads = []\n",
    "    count_of_rewards_1 = [0] * ads_count\n",
    "    count_of_rewards_0 = [0] * ads_count\n",
    "    total_rewards = 0\n",
    "    for n in range(0, num_of_rounds):\n",
    "        picked_ad = 0\n",
    "        max_random_prob = 0\n",
    "        for ad_id in range(0, ads_count):\n",
    "            random_prob = random.betavariate(count_of_rewards_1[ad_id] + 1, count_of_rewards_0[ad_id] + 1)\n",
    "            if random_prob > max_random_prob:\n",
    "                picked_ad = ad_id\n",
    "                max_random_prob = random_prob\n",
    "        \n",
    "        selected_ads.append(picked_ad)\n",
    "        reward = data.values[n, picked_ad]\n",
    "        if reward == 1:\n",
    "            count_of_rewards_1[picked_ad] += 1\n",
    "        else:\n",
    "            count_of_rewards_0[picked_ad] += 1\n",
    "        \n",
    "        total_rewards += reward\n",
    "    \n",
    "    return selected_ads    "
   ]
  },
  {
   "cell_type": "markdown",
   "id": "4ee20da5",
   "metadata": {},
   "source": [
    "- We run the thompson sampling function multiple times with differnt round count\n",
    "- We start with 100 rounds\n",
    "- Each time we increase the number of rounds by 100\n",
    "- The loop ends when the rounds earch the number of data records\n",
    "\n",
    "The reason is that thompson sampling is based on **exploration and exploitation**. This means in reality, we cannot expect to run the model for 10k (for all data records). We need to make a decision as soon as possible."
   ]
  },
  {
   "cell_type": "code",
   "execution_count": 5,
   "id": "8985396c",
   "metadata": {},
   "outputs": [],
   "source": [
    "# number of users (rounds)\n",
    "N_final = len(data)\n",
    "initial_N = 100\n",
    "step = 100\n",
    "selected_ads_history = []\n",
    "rounds = []\n",
    "for N in range(initial_N, N_final + 1, step):\n",
    "    selected_ads_history.append(thompson_sampling(N, data))\n",
    "    rounds.append(N)"
   ]
  },
  {
   "cell_type": "markdown",
   "id": "ecd0d9ff",
   "metadata": {},
   "source": [
    "## Results"
   ]
  },
  {
   "cell_type": "markdown",
   "id": "0b084f40",
   "metadata": {},
   "source": [
    "First, let's see which Ad was the most selected by Thompson Sampling in overall (10k rounds) "
   ]
  },
  {
   "cell_type": "code",
   "execution_count": 6,
   "id": "ccd1621a",
   "metadata": {},
   "outputs": [
    {
     "data": {
      "image/png": "[encoded data removed]",
      "text/plain": [
       "<Figure size 432x288 with 1 Axes>"
      ]
     },
     "metadata": {
      "needs_background": "light"
     },
     "output_type": "display_data"
    }
   ],
   "source": [
    "plt.hist(selected_ads_history[len(selected_ads_history) - 1])\n",
    "plt.title('Histogram of ads selections (round=10k)')\n",
    "plt.ylabel('Number of times each ad was selected')\n",
    "plt.show()"
   ]
  },
  {
   "cell_type": "markdown",
   "id": "bd16ffad",
   "metadata": {},
   "source": [
    "Now, let's see which Ad was the most selected by Thompson Sampling in initially for round==100"
   ]
  },
  {
   "cell_type": "code",
   "execution_count": 7,
   "id": "aba80880",
   "metadata": {},
   "outputs": [
    {
     "data": {
      "image/png": "[encoded data removed]",
      "text/plain": [
       "<Figure size 432x288 with 1 Axes>"
      ]
     },
     "metadata": {
      "needs_background": "light"
     },
     "output_type": "display_data"
    }
   ],
   "source": [
    "plt.hist(selected_ads_history[0])\n",
    "plt.title('Histogram of ads selections (round=100)')\n",
    "plt.xlabel('Ads')\n",
    "plt.ylabel('Number of times each ad was selected')\n",
    "plt.show()"
   ]
  },
  {
   "cell_type": "markdown",
   "id": "f0f1aa2f",
   "metadata": {},
   "source": [
    "- **We can see that even initially Thompson Sampling picked the right Ad (4).**"
   ]
  },
  {
   "cell_type": "code",
   "execution_count": null,
   "id": "3eca39b4",
   "metadata": {},
   "outputs": [],
   "source": []
  },
  {
   "cell_type": "code",
   "execution_count": null,
   "id": "94f7a8c8",
   "metadata": {},
   "outputs": [],
   "source": []
  }
 ],
 "metadata": {
  "kernelspec": {
   "display_name": "Python 3 (ipykernel)",
   "language": "python",
   "name": "python3"
  },
  "language_info": {
   "codemirror_mode": {
    "name": "ipython",
    "version": 3
   },
   "file_extension": ".py",
   "mimetype": "text/x-python",
   "name": "python",
   "nbconvert_exporter": "python",
   "pygments_lexer": "ipython3",
   "version": "3.8.10"
  }
 },
 "nbformat": 4,
 "nbformat_minor": 5
}
