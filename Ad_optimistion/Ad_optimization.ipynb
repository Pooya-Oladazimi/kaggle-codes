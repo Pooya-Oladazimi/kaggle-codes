{
 "cells": [
  {
   "cell_type": "code",
   "execution_count": 26,
   "id": "a5cf0992",
   "metadata": {},
   "outputs": [],
   "source": [
    "import pandas as pd\n",
    "import math\n",
    "import matplotlib.pyplot as plt\n",
    "import numpy as np\n",
    "from scipy import stats"
   ]
  },
  {
   "cell_type": "code",
   "execution_count": 27,
   "id": "12c2381e",
   "metadata": {},
   "outputs": [
    {
     "data": {
      "text/html": [
       "<div>\n",
       "<style scoped>\n",
       "    .dataframe tbody tr th:only-of-type {\n",
       "        vertical-align: middle;\n",
       "    }\n",
       "\n",
       "    .dataframe tbody tr th {\n",
       "        vertical-align: top;\n",
       "    }\n",
       "\n",
       "    .dataframe thead th {\n",
       "        text-align: right;\n",
       "    }\n",
       "</style>\n",
       "<table border=\"1\" class=\"dataframe\">\n",
       "  <thead>\n",
       "    <tr style=\"text-align: right;\">\n",
       "      <th></th>\n",
       "      <th>Ad 1</th>\n",
       "      <th>Ad 2</th>\n",
       "      <th>Ad 3</th>\n",
       "      <th>Ad 4</th>\n",
       "      <th>Ad 5</th>\n",
       "      <th>Ad 6</th>\n",
       "      <th>Ad 7</th>\n",
       "      <th>Ad 8</th>\n",
       "      <th>Ad 9</th>\n",
       "      <th>Ad 10</th>\n",
       "    </tr>\n",
       "  </thead>\n",
       "  <tbody>\n",
       "    <tr>\n",
       "      <th>0</th>\n",
       "      <td>1</td>\n",
       "      <td>0</td>\n",
       "      <td>0</td>\n",
       "      <td>0</td>\n",
       "      <td>1</td>\n",
       "      <td>0</td>\n",
       "      <td>0</td>\n",
       "      <td>0</td>\n",
       "      <td>1</td>\n",
       "      <td>0</td>\n",
       "    </tr>\n",
       "    <tr>\n",
       "      <th>1</th>\n",
       "      <td>0</td>\n",
       "      <td>0</td>\n",
       "      <td>0</td>\n",
       "      <td>0</td>\n",
       "      <td>0</td>\n",
       "      <td>0</td>\n",
       "      <td>0</td>\n",
       "      <td>0</td>\n",
       "      <td>1</td>\n",
       "      <td>0</td>\n",
       "    </tr>\n",
       "    <tr>\n",
       "      <th>2</th>\n",
       "      <td>0</td>\n",
       "      <td>0</td>\n",
       "      <td>0</td>\n",
       "      <td>0</td>\n",
       "      <td>0</td>\n",
       "      <td>0</td>\n",
       "      <td>0</td>\n",
       "      <td>0</td>\n",
       "      <td>0</td>\n",
       "      <td>0</td>\n",
       "    </tr>\n",
       "    <tr>\n",
       "      <th>3</th>\n",
       "      <td>0</td>\n",
       "      <td>1</td>\n",
       "      <td>0</td>\n",
       "      <td>0</td>\n",
       "      <td>0</td>\n",
       "      <td>0</td>\n",
       "      <td>0</td>\n",
       "      <td>1</td>\n",
       "      <td>0</td>\n",
       "      <td>0</td>\n",
       "    </tr>\n",
       "    <tr>\n",
       "      <th>4</th>\n",
       "      <td>0</td>\n",
       "      <td>0</td>\n",
       "      <td>0</td>\n",
       "      <td>0</td>\n",
       "      <td>0</td>\n",
       "      <td>0</td>\n",
       "      <td>0</td>\n",
       "      <td>0</td>\n",
       "      <td>0</td>\n",
       "      <td>0</td>\n",
       "    </tr>\n",
       "  </tbody>\n",
       "</table>\n",
       "</div>"
      ],
      "text/plain": [
       "   Ad 1  Ad 2  Ad 3  Ad 4  Ad 5  Ad 6  Ad 7  Ad 8  Ad 9  Ad 10\n",
       "0     1     0     0     0     1     0     0     0     1      0\n",
       "1     0     0     0     0     0     0     0     0     1      0\n",
       "2     0     0     0     0     0     0     0     0     0      0\n",
       "3     0     1     0     0     0     0     0     1     0      0\n",
       "4     0     0     0     0     0     0     0     0     0      0"
      ]
     },
     "execution_count": 27,
     "metadata": {},
     "output_type": "execute_result"
    }
   ],
   "source": [
    "data = pd.read_csv(\"Ads_CTR_Optimisation.csv\")\n",
    "data.head()"
   ]
  },
  {
   "cell_type": "markdown",
   "id": "0311636c",
   "metadata": {},
   "source": [
    "## UCB "
   ]
  },
  {
   "cell_type": "code",
   "execution_count": 28,
   "id": "d737601e",
   "metadata": {},
   "outputs": [],
   "source": [
    "def ucb_function(num_of_rounds, data):\n",
    "    '''\n",
    "        The Upper Confidence Bound function.\n",
    "        \n",
    "        Args:\n",
    "            - num_of_rounds: how many rounds the function should run\n",
    "            - data: the target data\n",
    "        \n",
    "        Return:\n",
    "            - An array of the selected targets on each round\n",
    "    '''\n",
    "    \n",
    "    # number of Ads\n",
    "    d = len(data.columns)\n",
    "    selected_ads = []\n",
    "    num_of_each_ads_selection = [0] * d\n",
    "    sum_of_rewards_for_each_ads = [0] * d\n",
    "    total_rewards = 0\n",
    "\n",
    "    for n in range(0, num_of_rounds):\n",
    "        winner_ad = 0\n",
    "        max_ucb = 0\n",
    "        for i in range(0, d):\n",
    "            if(num_of_each_ads_selection[i] > 0):\n",
    "                average_reward = sum_of_rewards_for_each_ads[i] / num_of_each_ads_selection[i]\n",
    "                delta_i = math.sqrt(3/2 * (math.log(n + 1) / num_of_each_ads_selection[i]))\n",
    "                ucb = average_reward + delta_i\n",
    "            else:\n",
    "                # denominator in the average_reward equation is zero\n",
    "                ucb = 1e400\n",
    "\n",
    "            if ucb > max_ucb:\n",
    "                max_ucb = ucb\n",
    "                winner_ad = i\n",
    "\n",
    "        selected_ads.append(winner_ad)\n",
    "        num_of_each_ads_selection[winner_ad] += 1\n",
    "        reward = data.values[n, winner_ad]\n",
    "        sum_of_rewards_for_each_ads[winner_ad] += reward\n",
    "        total_rewards += reward\n",
    "    \n",
    "    return selected_ads"
   ]
  },
  {
   "cell_type": "markdown",
   "id": "28951d56",
   "metadata": {},
   "source": [
    "- We run the UCB function multiple times with differnt round count\n",
    "- We start with 100 rounds\n",
    "- Each time we increase the number of rounds by 100\n",
    "- The loop ends when the rounds earch the number of data records\n",
    "\n",
    "The reason is that UCB is based on **exploration and exploitation**. This means in reality, we cannot expect to run the model for 10k (for all data records). We need to make a decision as soon as possible."
   ]
  },
  {
   "cell_type": "code",
   "execution_count": 29,
   "id": "e90079fa",
   "metadata": {},
   "outputs": [],
   "source": [
    "# number of users (rounds)\n",
    "N_final = len(data)\n",
    "initial_N = 100\n",
    "step = 100\n",
    "selected_ads_history = []\n",
    "rounds = []\n",
    "for N in range(initial_N, N_final + 1, step):\n",
    "    selected_ads_history.append(ucb_function(N, data))\n",
    "    rounds.append(N)"
   ]
  },
  {
   "cell_type": "markdown",
   "id": "d65c13e6",
   "metadata": {},
   "source": [
    "## Results"
   ]
  },
  {
   "cell_type": "markdown",
   "id": "65a92bf9",
   "metadata": {},
   "source": [
    "First, let's see which Ad was the most selected by UCB in overall (10k rounds) "
   ]
  },
  {
   "cell_type": "code",
   "execution_count": 30,
   "id": "1ae5180a",
   "metadata": {},
   "outputs": [
    {
     "data": {
      "image/png": "[encoded data removed]",
      "text/plain": [
       "<Figure size 432x288 with 1 Axes>"
      ]
     },
     "metadata": {
      "needs_background": "light"
     },
     "output_type": "display_data"
    }
   ],
   "source": [
    "plt.hist(selected_ads_history[len(selected_ads_history) - 1])\n",
    "plt.title('Histogram of ads selections (round=10k)')\n",
    "plt.ylabel('Number of times each ad was selected')\n",
    "plt.show()"
   ]
  },
  {
   "cell_type": "markdown",
   "id": "425a341a",
   "metadata": {},
   "source": [
    "Now, let's see which Ad was the most selected by UCB in initially for round==100"
   ]
  },
  {
   "cell_type": "code",
   "execution_count": 31,
   "id": "45deeb89",
   "metadata": {},
   "outputs": [
    {
     "data": {
      "image/png": "[encoded data removed]",
      "text/plain": [
       "<Figure size 432x288 with 1 Axes>"
      ]
     },
     "metadata": {
      "needs_background": "light"
     },
     "output_type": "display_data"
    }
   ],
   "source": [
    "plt.hist(selected_ads_history[0])\n",
    "plt.title('Histogram of ads selections (round=100)')\n",
    "plt.xlabel('Ads')\n",
    "plt.ylabel('Number of times each ad was selected')\n",
    "plt.show()"
   ]
  },
  {
   "cell_type": "markdown",
   "id": "5f9fc20e",
   "metadata": {},
   "source": [
    "- We can see that initially UCB picked the wrong Ad (7). Then it adjusted itself and picked the right one (4)\n",
    "- Now let's see approximately on which round UCB understood the right Ad to pick"
   ]
  },
  {
   "cell_type": "code",
   "execution_count": 32,
   "id": "87baa229",
   "metadata": {},
   "outputs": [
    {
     "data": {
      "text/plain": [
       "600"
      ]
     },
     "execution_count": 32,
     "metadata": {},
     "output_type": "execute_result"
    }
   ],
   "source": [
    "target_round_index = 0\n",
    "for selected in selected_ads_history:\n",
    "    picked_ad = int(list(stats.mode(selected))[0][0])\n",
    "    if picked_ad != 4:\n",
    "        target_round_index += 1\n",
    "    else:\n",
    "        break\n",
    "        \n",
    "rounds[target_round_index]"
   ]
  },
  {
   "cell_type": "markdown",
   "id": "42144fd9",
   "metadata": {},
   "source": [
    "#### This means somewhere between round=500 and round=600 the model understood the right choice."
   ]
  },
  {
   "cell_type": "code",
   "execution_count": null,
   "id": "5c72b04c",
   "metadata": {},
   "outputs": [],
   "source": []
  }
 ],
 "metadata": {
  "kernelspec": {
   "display_name": "Python 3 (ipykernel)",
   "language": "python",
   "name": "python3"
  },
  "language_info": {
   "codemirror_mode": {
    "name": "ipython",
    "version": 3
   },
   "file_extension": ".py",
   "mimetype": "text/x-python",
   "name": "python",
   "nbconvert_exporter": "python",
   "pygments_lexer": "ipython3",
   "version": "3.8.10"
  }
 },
 "nbformat": 4,
 "nbformat_minor": 5
}
