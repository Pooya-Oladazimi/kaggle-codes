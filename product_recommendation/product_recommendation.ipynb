{
 "cells": [
  {
   "cell_type": "code",
   "execution_count": 1,
   "id": "6ade8fb7",
   "metadata": {},
   "outputs": [],
   "source": [
    "import pandas as pd"
   ]
  },
  {
   "cell_type": "code",
   "execution_count": 8,
   "id": "2f9ab8e7",
   "metadata": {},
   "outputs": [
    {
     "data": {
      "text/html": [
       "<div>\n",
       "<style scoped>\n",
       "    .dataframe tbody tr th:only-of-type {\n",
       "        vertical-align: middle;\n",
       "    }\n",
       "\n",
       "    .dataframe tbody tr th {\n",
       "        vertical-align: top;\n",
       "    }\n",
       "\n",
       "    .dataframe thead th {\n",
       "        text-align: right;\n",
       "    }\n",
       "</style>\n",
       "<table border=\"1\" class=\"dataframe\">\n",
       "  <thead>\n",
       "    <tr style=\"text-align: right;\">\n",
       "      <th></th>\n",
       "      <th>Member</th>\n",
       "      <th>Order</th>\n",
       "      <th>SKU</th>\n",
       "      <th>Created On</th>\n",
       "      <th>Description</th>\n",
       "    </tr>\n",
       "  </thead>\n",
       "  <tbody>\n",
       "    <tr>\n",
       "      <th>0</th>\n",
       "      <td>M09736</td>\n",
       "      <td>6468572</td>\n",
       "      <td>34993740</td>\n",
       "      <td>41904.94792</td>\n",
       "      <td>Other Sauces</td>\n",
       "    </tr>\n",
       "    <tr>\n",
       "      <th>1</th>\n",
       "      <td>M09736</td>\n",
       "      <td>6468572</td>\n",
       "      <td>15669800</td>\n",
       "      <td>41904.94792</td>\n",
       "      <td>Cashews</td>\n",
       "    </tr>\n",
       "    <tr>\n",
       "      <th>2</th>\n",
       "      <td>M09736</td>\n",
       "      <td>6468572</td>\n",
       "      <td>34989501</td>\n",
       "      <td>41904.94792</td>\n",
       "      <td>Other Dals</td>\n",
       "    </tr>\n",
       "    <tr>\n",
       "      <th>3</th>\n",
       "      <td>M09736</td>\n",
       "      <td>6468572</td>\n",
       "      <td>7572303</td>\n",
       "      <td>41904.94792</td>\n",
       "      <td>Namkeen</td>\n",
       "    </tr>\n",
       "    <tr>\n",
       "      <th>4</th>\n",
       "      <td>M09736</td>\n",
       "      <td>6468572</td>\n",
       "      <td>15669856</td>\n",
       "      <td>41904.94792</td>\n",
       "      <td>Sugar</td>\n",
       "    </tr>\n",
       "  </tbody>\n",
       "</table>\n",
       "</div>"
      ],
      "text/plain": [
       "   Member    Order       SKU   Created On   Description\n",
       "0  M09736  6468572  34993740  41904.94792  Other Sauces\n",
       "1  M09736  6468572  15669800  41904.94792       Cashews\n",
       "2  M09736  6468572  34989501  41904.94792    Other Dals\n",
       "3  M09736  6468572   7572303  41904.94792       Namkeen\n",
       "4  M09736  6468572  15669856  41904.94792         Sugar"
      ]
     },
     "execution_count": 8,
     "metadata": {},
     "output_type": "execute_result"
    }
   ],
   "source": [
    "data = pd.read_csv(\"bigBasket.csv\")\n",
    "data.head()"
   ]
  },
  {
   "cell_type": "code",
   "execution_count": 9,
   "id": "c390a4e4",
   "metadata": {},
   "outputs": [
    {
     "data": {
      "text/plain": [
       "(62141, 5)"
      ]
     },
     "execution_count": 9,
     "metadata": {},
     "output_type": "execute_result"
    }
   ],
   "source": [
    "data.shape"
   ]
  },
  {
   "cell_type": "code",
   "execution_count": 24,
   "id": "bc269bd5",
   "metadata": {},
   "outputs": [
    {
     "data": {
      "text/plain": [
       "8387"
      ]
     },
     "execution_count": 24,
     "metadata": {},
     "output_type": "execute_result"
    }
   ],
   "source": [
    "transactions_per_order = {}\n",
    "for i, sub_set in data.groupby(['Order']):\n",
    "    order = list(sub_set['Order'])[0]\n",
    "    transactions_per_order[order] = []\n",
    "    for j, row in sub_set.iterrows():\n",
    "        transactions_per_order[order].append(row['Description'])\n",
    "len(transactions_per_order)"
   ]
  },
  {
   "cell_type": "code",
   "execution_count": null,
   "id": "d33fbc9b",
   "metadata": {},
   "outputs": [],
   "source": []
  },
  {
   "cell_type": "code",
   "execution_count": null,
   "id": "fbe328b9",
   "metadata": {},
   "outputs": [],
   "source": []
  },
  {
   "cell_type": "code",
   "execution_count": null,
   "id": "12a57653",
   "metadata": {},
   "outputs": [],
   "source": []
  },
  {
   "cell_type": "code",
   "execution_count": null,
   "id": "dc85084e",
   "metadata": {},
   "outputs": [],
   "source": []
  }
 ],
 "metadata": {
  "kernelspec": {
   "display_name": "Python 3 (ipykernel)",
   "language": "python",
   "name": "python3"
  },
  "language_info": {
   "codemirror_mode": {
    "name": "ipython",
    "version": 3
   },
   "file_extension": ".py",
   "mimetype": "text/x-python",
   "name": "python",
   "nbconvert_exporter": "python",
   "pygments_lexer": "ipython3",
   "version": "3.8.10"
  }
 },
 "nbformat": 4,
 "nbformat_minor": 5
}
